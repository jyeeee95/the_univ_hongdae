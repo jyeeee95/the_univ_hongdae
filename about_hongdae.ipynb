{
 "cells": [
  {
   "cell_type": "code",
   "execution_count": 1,
   "metadata": {},
   "outputs": [
    {
     "name": "stdout",
     "output_type": "stream",
     "text": [
      "0.23.4\n",
      "1.14.5\n"
     ]
    }
   ],
   "source": [
    "import pandas as pd\n",
    "import numpy as np\n",
    "import re\n",
    "import plotly\n",
    "import seaborn as sns\n",
    "import folium\n",
    "import json\n",
    "import glob\n",
    "\n",
    "\n",
    "print(pd.__version__)\n",
    "print(np.__version__)"
   ]
  },
  {
   "cell_type": "code",
   "execution_count": 2,
   "metadata": {},
   "outputs": [],
   "source": [
    "import matplotlib as mpl\n",
    "import matplotlib.pyplot as plt\n",
    "import matplotlib.font_manager as fm\n",
    "from folium.features import DivIcon"
   ]
  },
  {
   "cell_type": "code",
   "execution_count": 3,
   "metadata": {},
   "outputs": [
    {
     "data": {
      "text/plain": [
       "['data/hongdae/hongdae_2015_4th.csv',\n",
       " 'data/hongdae/hongdae_2018_1st.csv',\n",
       " 'data/hongdae/hongdae_2014_2nd.csv',\n",
       " 'data/hongdae/hongdae_2014_4th.csv',\n",
       " 'data/hongdae/hongdae_2015_2nd.csv',\n",
       " 'data/hongdae/hongdae_2012_3rd.csv',\n",
       " 'data/hongdae/hongdae_2016_4th.csv',\n",
       " 'data/hongdae/hongdae_2017_2nd.csv',\n",
       " 'data/hongdae/hongdae_2017_4th.csv',\n",
       " 'data/hongdae/hongdae_2016_2nd.csv',\n",
       " 'data/hongdae/hongdae_2013_1st.csv',\n",
       " 'data/hongdae/hongdae_2013_3rd.csv',\n",
       " 'data/hongdae/hongdae_2016_3rd.csv',\n",
       " 'data/hongdae/hongdae_2016_1st.csv',\n",
       " 'data/hongdae/hongdae_2013_2nd.csv',\n",
       " 'data/hongdae/hongdae_2012_4th.csv',\n",
       " 'data/hongdae/hongdae_2013_4th.csv',\n",
       " 'data/hongdae/hongdae_2017_3rd.csv',\n",
       " 'data/hongdae/hongdae_2017_1st.csv',\n",
       " 'data/hongdae/hongdae_2015_3rd.csv',\n",
       " 'data/hongdae/hongdae_2015_1st.csv',\n",
       " 'data/hongdae/hongdae_2014_3rd.csv',\n",
       " 'data/hongdae/hongdae_2018_2nd.csv',\n",
       " 'data/hongdae/hongdae_2014_1st.csv']"
      ]
     },
     "execution_count": 3,
     "metadata": {},
     "output_type": "execute_result"
    }
   ],
   "source": [
    "file_list = []\n",
    "path = \"data/hongdae/*.csv\"\n",
    "\n",
    "for fname in glob.glob(path):\n",
    "    file_list.append(fname)\n",
    "\n",
    "file_list"
   ]
  },
  {
   "cell_type": "code",
   "execution_count": 4,
   "metadata": {},
   "outputs": [
    {
     "name": "stdout",
     "output_type": "stream",
     "text": [
      "['hongdae_2012_3rd', 'hongdae_2012_4th', 'hongdae_2013_1st', 'hongdae_2013_2nd', 'hongdae_2013_3rd', 'hongdae_2013_4th', 'hongdae_2014_1st', 'hongdae_2014_2nd', 'hongdae_2014_3rd', 'hongdae_2014_4th', 'hongdae_2015_1st', 'hongdae_2015_2nd', 'hongdae_2015_3rd', 'hongdae_2015_4th', 'hongdae_2016_1st', 'hongdae_2016_2nd', 'hongdae_2016_3rd', 'hongdae_2016_4th', 'hongdae_2017_1st', 'hongdae_2017_2nd', 'hongdae_2017_3rd', 'hongdae_2017_4th', 'hongdae_2018_1st', 'hongdae_2018_2nd']\n"
     ]
    }
   ],
   "source": [
    "file_list = [re.sub('data/hongdae/', '', i) for i in file_list]\n",
    "file_list = [re.sub('.csv', '', i) for i in file_list]\n",
    "file_list.sort()\n",
    "print(file_list)"
   ]
  },
  {
   "cell_type": "code",
   "execution_count": 5,
   "metadata": {},
   "outputs": [],
   "source": [
    "hongdae_2012_3rd = pd.read_csv(\"data/hongdae/hongdae_2012_3rd.csv\", encoding = 'utf-8')\n",
    "hongdae_2012_4th = pd.read_csv(\"data/hongdae/hongdae_2012_4th.csv\", encoding = 'utf-8')\n",
    "\n",
    "hongdae_2013_1st = pd.read_csv(\"data/hongdae/hongdae_2013_1st.csv\", encoding = 'utf-8')\n",
    "hongdae_2013_2nd = pd.read_csv(\"data/hongdae/hongdae_2013_2nd.csv\", encoding = 'utf-8')\n",
    "hongdae_2013_3rd = pd.read_csv(\"data/hongdae/hongdae_2013_3rd.csv\", encoding = 'utf-8')\n",
    "hongdae_2013_4th = pd.read_csv(\"data/hongdae/hongdae_2013_4th.csv\", encoding = 'utf-8')\n",
    "\n",
    "hongdae_2014_1st = pd.read_csv(\"data/hongdae/hongdae_2014_1st.csv\", encoding = 'utf-8')\n",
    "hongdae_2014_2nd = pd.read_csv(\"data/hongdae/hongdae_2014_2nd.csv\", encoding = 'utf-8')\n",
    "hongdae_2014_3rd = pd.read_csv(\"data/hongdae/hongdae_2014_3rd.csv\", encoding = 'utf-8')\n",
    "hongdae_2014_4th = pd.read_csv(\"data/hongdae/hongdae_2014_4th.csv\", encoding = 'utf-8')\n",
    "\n",
    "hongdae_2015_1st = pd.read_csv(\"data/hongdae/hongdae_2015_1st.csv\", encoding = 'utf-8')\n",
    "hongdae_2015_2nd = pd.read_csv(\"data/hongdae/hongdae_2015_2nd.csv\", encoding = 'utf-8')\n",
    "hongdae_2015_3rd = pd.read_csv(\"data/hongdae/hongdae_2015_3rd.csv\", encoding = 'utf-8')\n",
    "hongdae_2015_4th = pd.read_csv(\"data/hongdae/hongdae_2015_4th.csv\", encoding = 'utf-8')\n",
    "\n",
    "hongdae_2016_1st = pd.read_csv(\"data/hongdae/hongdae_2016_1st.csv\", encoding = 'utf-8')\n",
    "hongdae_2016_2nd = pd.read_csv(\"data/hongdae/hongdae_2016_2nd.csv\", encoding = 'utf-8')\n",
    "hongdae_2016_3rd = pd.read_csv(\"data/hongdae/hongdae_2016_3rd.csv\", encoding = 'utf-8')\n",
    "hongdae_2016_4th = pd.read_csv(\"data/hongdae/hongdae_2016_4th.csv\", encoding = 'utf-8')\n",
    "\n",
    "hongdae_2017_1st = pd.read_csv(\"data/hongdae/hongdae_2017_1st.csv\", encoding = 'utf-8')\n",
    "hongdae_2017_2nd = pd.read_csv(\"data/hongdae/hongdae_2017_2nd.csv\", encoding = 'utf-8')\n",
    "hongdae_2017_3rd = pd.read_csv(\"data/hongdae/hongdae_2017_3rd.csv\", encoding = 'utf-8')\n",
    "hongdae_2017_4th = pd.read_csv(\"data/hongdae/hongdae_2017_4th.csv\", encoding = 'utf-8')\n",
    "\n",
    "hongdae_2018_1st = pd.read_csv(\"data/hongdae/hongdae_2018_1st.csv\", encoding = 'utf-8')\n",
    "hongdae_2018_2nd = pd.read_csv(\"data/hongdae/hongdae_2018_2nd.csv\", encoding = 'utf-8')"
   ]
  },
  {
   "cell_type": "code",
   "execution_count": 6,
   "metadata": {},
   "outputs": [],
   "source": [
    "hongdae_2012_3rd['year_quarter'] = 201203\n",
    "hongdae_2012_4th['year_quarter'] = 201204\n",
    "\n",
    "hongdae_2013_1st['year_quarter'] = 201301\n",
    "hongdae_2013_2nd['year_quarter'] = 201302\n",
    "hongdae_2013_3rd['year_quarter'] = 201303\n",
    "hongdae_2013_4th['year_quarter'] = 201304\n",
    "\n",
    "hongdae_2014_1st['year_quarter'] = 201401\n",
    "hongdae_2014_2nd['year_quarter'] = 201402\n",
    "hongdae_2014_3rd['year_quarter'] = 201403\n",
    "hongdae_2014_4th['year_quarter'] = 201404\n",
    "\n",
    "hongdae_2015_1st['year_quarter'] = 201501\n",
    "hongdae_2015_2nd['year_quarter'] = 201502\n",
    "hongdae_2015_3rd['year_quarter'] = 201503\n",
    "hongdae_2015_4th['year_quarter'] = 201504\n",
    "\n",
    "hongdae_2016_1st['year_quarter'] = 201601\n",
    "hongdae_2016_2nd['year_quarter'] = 201602\n",
    "hongdae_2016_3rd['year_quarter'] = 201603\n",
    "hongdae_2016_4th['year_quarter'] = 201604\n",
    "\n",
    "hongdae_2017_1st['year_quarter'] = 201701\n",
    "hongdae_2017_2nd['year_quarter'] = 201702\n",
    "hongdae_2017_3rd['year_quarter'] = 201703\n",
    "hongdae_2017_4th['year_quarter'] = 201704\n",
    "\n",
    "hongdae_2018_1st['year_quarter'] = 201801\n",
    "hongdae_2018_2nd['year_quarter'] = 201802"
   ]
  },
  {
   "cell_type": "code",
   "execution_count": 7,
   "metadata": {},
   "outputs": [],
   "source": [
    "hongdae= pd.concat([hongdae_2012_3rd, hongdae_2012_4th, hongdae_2013_1st, hongdae_2013_2nd, hongdae_2013_3rd, hongdae_2013_4th, hongdae_2014_1st, hongdae_2014_2nd, hongdae_2014_3rd, hongdae_2014_4th, hongdae_2015_1st, hongdae_2015_2nd, hongdae_2015_3rd, hongdae_2015_4th, hongdae_2016_1st, hongdae_2016_2nd, hongdae_2016_3rd, hongdae_2016_4th, hongdae_2017_1st, hongdae_2017_2nd, hongdae_2017_3rd, hongdae_2017_4th, hongdae_2018_1st, hongdae_2018_2nd], ignore_index=True)"
   ]
  },
  {
   "cell_type": "code",
   "execution_count": 8,
   "metadata": {
    "scrolled": true
   },
   "outputs": [
    {
     "data": {
      "text/html": [
       "<div>\n",
       "<style scoped>\n",
       "    .dataframe tbody tr th:only-of-type {\n",
       "        vertical-align: middle;\n",
       "    }\n",
       "\n",
       "    .dataframe tbody tr th {\n",
       "        vertical-align: top;\n",
       "    }\n",
       "\n",
       "    .dataframe thead th {\n",
       "        text-align: right;\n",
       "    }\n",
       "</style>\n",
       "<table border=\"1\" class=\"dataframe\">\n",
       "  <thead>\n",
       "    <tr style=\"text-align: right;\">\n",
       "      <th></th>\n",
       "      <th>title</th>\n",
       "      <th>longitude</th>\n",
       "      <th>latitude</th>\n",
       "      <th>year_quarter</th>\n",
       "    </tr>\n",
       "  </thead>\n",
       "  <tbody>\n",
       "    <tr>\n",
       "      <th>0</th>\n",
       "      <td>피오니</td>\n",
       "      <td>126.921082</td>\n",
       "      <td>37.550069</td>\n",
       "      <td>201203</td>\n",
       "    </tr>\n",
       "    <tr>\n",
       "      <th>1</th>\n",
       "      <td>aA</td>\n",
       "      <td>126.921219</td>\n",
       "      <td>37.549268</td>\n",
       "      <td>201203</td>\n",
       "    </tr>\n",
       "    <tr>\n",
       "      <th>2</th>\n",
       "      <td>르꺄뜨레</td>\n",
       "      <td>126.922857</td>\n",
       "      <td>37.557321</td>\n",
       "      <td>201203</td>\n",
       "    </tr>\n",
       "    <tr>\n",
       "      <th>3</th>\n",
       "      <td>플레이스요 홍대본점</td>\n",
       "      <td>126.924801</td>\n",
       "      <td>37.555897</td>\n",
       "      <td>201203</td>\n",
       "    </tr>\n",
       "    <tr>\n",
       "      <th>4</th>\n",
       "      <td>에디토리얼카페비플러스</td>\n",
       "      <td>126.917612</td>\n",
       "      <td>37.551335</td>\n",
       "      <td>201203</td>\n",
       "    </tr>\n",
       "  </tbody>\n",
       "</table>\n",
       "</div>"
      ],
      "text/plain": [
       "         title   longitude   latitude  year_quarter\n",
       "0          피오니  126.921082  37.550069        201203\n",
       "1           aA  126.921219  37.549268        201203\n",
       "2         르꺄뜨레  126.922857  37.557321        201203\n",
       "3   플레이스요 홍대본점  126.924801  37.555897        201203\n",
       "4  에디토리얼카페비플러스  126.917612  37.551335        201203"
      ]
     },
     "execution_count": 8,
     "metadata": {},
     "output_type": "execute_result"
    }
   ],
   "source": [
    "hongdae = hongdae.drop(hongdae.columns[0], axis=1)\n",
    "hongdae.head()"
   ]
  },
  {
   "cell_type": "markdown",
   "metadata": {},
   "source": [
    "# Data Counting"
   ]
  },
  {
   "cell_type": "code",
   "execution_count": 9,
   "metadata": {},
   "outputs": [
    {
     "data": {
      "text/html": [
       "<div>\n",
       "<style scoped>\n",
       "    .dataframe tbody tr th:only-of-type {\n",
       "        vertical-align: middle;\n",
       "    }\n",
       "\n",
       "    .dataframe tbody tr th {\n",
       "        vertical-align: top;\n",
       "    }\n",
       "\n",
       "    .dataframe thead th {\n",
       "        text-align: right;\n",
       "    }\n",
       "</style>\n",
       "<table border=\"1\" class=\"dataframe\">\n",
       "  <thead>\n",
       "    <tr style=\"text-align: right;\">\n",
       "      <th></th>\n",
       "      <th>title</th>\n",
       "      <th>year_quarter</th>\n",
       "      <th>counts</th>\n",
       "    </tr>\n",
       "  </thead>\n",
       "  <tbody>\n",
       "    <tr>\n",
       "      <th>0</th>\n",
       "      <td>(주)브알라</td>\n",
       "      <td>201302</td>\n",
       "      <td>1</td>\n",
       "    </tr>\n",
       "    <tr>\n",
       "      <th>1</th>\n",
       "      <td>(주)슈니발렌코리아</td>\n",
       "      <td>201301</td>\n",
       "      <td>1</td>\n",
       "    </tr>\n",
       "    <tr>\n",
       "      <th>2</th>\n",
       "      <td>(주)올리버브라운코리아</td>\n",
       "      <td>201502</td>\n",
       "      <td>1</td>\n",
       "    </tr>\n",
       "    <tr>\n",
       "      <th>3</th>\n",
       "      <td>(주)지엔씨미디어</td>\n",
       "      <td>201403</td>\n",
       "      <td>1</td>\n",
       "    </tr>\n",
       "    <tr>\n",
       "      <th>4</th>\n",
       "      <td>(주)카페베네</td>\n",
       "      <td>201504</td>\n",
       "      <td>1</td>\n",
       "    </tr>\n",
       "  </tbody>\n",
       "</table>\n",
       "</div>"
      ],
      "text/plain": [
       "          title  year_quarter  counts\n",
       "0        (주)브알라        201302       1\n",
       "1    (주)슈니발렌코리아        201301       1\n",
       "2  (주)올리버브라운코리아        201502       1\n",
       "3     (주)지엔씨미디어        201403       1\n",
       "4       (주)카페베네        201504       1"
      ]
     },
     "execution_count": 9,
     "metadata": {},
     "output_type": "execute_result"
    }
   ],
   "source": [
    "# 각 년도별  카페 counts\n",
    "hongdae_counts = hongdae.groupby([\"title\", \"year_quarter\"]).size().reset_index(name=\"counts\")\n",
    "hongdae_counts.head()"
   ]
  },
  {
   "cell_type": "code",
   "execution_count": 10,
   "metadata": {},
   "outputs": [
    {
     "data": {
      "text/plain": [
       "title        2134\n",
       "longitude    2135\n",
       "latitude     2135\n",
       "dtype: int64"
      ]
     },
     "execution_count": 10,
     "metadata": {},
     "output_type": "execute_result"
    }
   ],
   "source": [
    "# 유니크한 카페 갯수(title)\n",
    "hongdae_long_lat = hongdae.drop_duplicates(['title'],keep= 'last')\n",
    "hongdae_long_lat = hongdae_long_lat[['title', 'longitude', 'latitude']]\n",
    "hongdae_long_lat.count()"
   ]
  },
  {
   "cell_type": "code",
   "execution_count": 11,
   "metadata": {},
   "outputs": [
    {
     "data": {
      "text/plain": [
       "title           9699\n",
       "longitude       9711\n",
       "latitude        9711\n",
       "year_quarter    9711\n",
       "dtype: int64"
      ]
     },
     "execution_count": 11,
     "metadata": {},
     "output_type": "execute_result"
    }
   ],
   "source": [
    "# 원래의 데이터 row 수\n",
    "hongdae.count()"
   ]
  },
  {
   "cell_type": "code",
   "execution_count": 12,
   "metadata": {},
   "outputs": [
    {
     "data": {
      "text/html": [
       "<div>\n",
       "<style scoped>\n",
       "    .dataframe tbody tr th:only-of-type {\n",
       "        vertical-align: middle;\n",
       "    }\n",
       "\n",
       "    .dataframe tbody tr th {\n",
       "        vertical-align: top;\n",
       "    }\n",
       "\n",
       "    .dataframe thead th {\n",
       "        text-align: right;\n",
       "    }\n",
       "</style>\n",
       "<table border=\"1\" class=\"dataframe\">\n",
       "  <thead>\n",
       "    <tr style=\"text-align: right;\">\n",
       "      <th></th>\n",
       "      <th>title</th>\n",
       "      <th>year_quarter</th>\n",
       "      <th>counts</th>\n",
       "      <th>longitude</th>\n",
       "      <th>latitude</th>\n",
       "    </tr>\n",
       "  </thead>\n",
       "  <tbody>\n",
       "    <tr>\n",
       "      <th>0</th>\n",
       "      <td>(주)브알라</td>\n",
       "      <td>201302</td>\n",
       "      <td>1</td>\n",
       "      <td>126.925735</td>\n",
       "      <td>37.555205</td>\n",
       "    </tr>\n",
       "    <tr>\n",
       "      <th>1</th>\n",
       "      <td>(주)슈니발렌코리아</td>\n",
       "      <td>201301</td>\n",
       "      <td>1</td>\n",
       "      <td>126.923825</td>\n",
       "      <td>37.554260</td>\n",
       "    </tr>\n",
       "    <tr>\n",
       "      <th>2</th>\n",
       "      <td>(주)올리버브라운코리아</td>\n",
       "      <td>201502</td>\n",
       "      <td>1</td>\n",
       "      <td>126.924667</td>\n",
       "      <td>37.555725</td>\n",
       "    </tr>\n",
       "    <tr>\n",
       "      <th>3</th>\n",
       "      <td>(주)지엔씨미디어</td>\n",
       "      <td>201403</td>\n",
       "      <td>1</td>\n",
       "      <td>126.919502</td>\n",
       "      <td>37.555353</td>\n",
       "    </tr>\n",
       "    <tr>\n",
       "      <th>4</th>\n",
       "      <td>(주)카페베네</td>\n",
       "      <td>201504</td>\n",
       "      <td>1</td>\n",
       "      <td>126.923601</td>\n",
       "      <td>37.552616</td>\n",
       "    </tr>\n",
       "    <tr>\n",
       "      <th>5</th>\n",
       "      <td>(주)코코브루니</td>\n",
       "      <td>201303</td>\n",
       "      <td>1</td>\n",
       "      <td>127.026386</td>\n",
       "      <td>37.502341</td>\n",
       "    </tr>\n",
       "    <tr>\n",
       "      <th>6</th>\n",
       "      <td>(주)터미너스</td>\n",
       "      <td>201403</td>\n",
       "      <td>1</td>\n",
       "      <td>126.917492</td>\n",
       "      <td>37.553089</td>\n",
       "    </tr>\n",
       "    <tr>\n",
       "      <th>7</th>\n",
       "      <td>100% Original Coffee</td>\n",
       "      <td>201301</td>\n",
       "      <td>1</td>\n",
       "      <td>126.919729</td>\n",
       "      <td>37.548761</td>\n",
       "    </tr>\n",
       "    <tr>\n",
       "      <th>8</th>\n",
       "      <td>100%오리지날(지하 1층)</td>\n",
       "      <td>201301</td>\n",
       "      <td>1</td>\n",
       "      <td>126.919344</td>\n",
       "      <td>37.549016</td>\n",
       "    </tr>\n",
       "    <tr>\n",
       "      <th>9</th>\n",
       "      <td>17도씨</td>\n",
       "      <td>201603</td>\n",
       "      <td>1</td>\n",
       "      <td>126.923165</td>\n",
       "      <td>37.562190</td>\n",
       "    </tr>\n",
       "    <tr>\n",
       "      <th>10</th>\n",
       "      <td>17도씨</td>\n",
       "      <td>201704</td>\n",
       "      <td>1</td>\n",
       "      <td>126.923165</td>\n",
       "      <td>37.562190</td>\n",
       "    </tr>\n",
       "    <tr>\n",
       "      <th>11</th>\n",
       "      <td>17도씨</td>\n",
       "      <td>201802</td>\n",
       "      <td>1</td>\n",
       "      <td>126.923165</td>\n",
       "      <td>37.562190</td>\n",
       "    </tr>\n",
       "    <tr>\n",
       "      <th>12</th>\n",
       "      <td>1984</td>\n",
       "      <td>201301</td>\n",
       "      <td>1</td>\n",
       "      <td>126.922836</td>\n",
       "      <td>37.557365</td>\n",
       "    </tr>\n",
       "    <tr>\n",
       "      <th>13</th>\n",
       "      <td>1984</td>\n",
       "      <td>201302</td>\n",
       "      <td>2</td>\n",
       "      <td>126.922836</td>\n",
       "      <td>37.557365</td>\n",
       "    </tr>\n",
       "    <tr>\n",
       "      <th>14</th>\n",
       "      <td>1984</td>\n",
       "      <td>201303</td>\n",
       "      <td>7</td>\n",
       "      <td>126.922836</td>\n",
       "      <td>37.557365</td>\n",
       "    </tr>\n",
       "    <tr>\n",
       "      <th>15</th>\n",
       "      <td>1984</td>\n",
       "      <td>201304</td>\n",
       "      <td>3</td>\n",
       "      <td>126.922836</td>\n",
       "      <td>37.557365</td>\n",
       "    </tr>\n",
       "    <tr>\n",
       "      <th>16</th>\n",
       "      <td>1984</td>\n",
       "      <td>201401</td>\n",
       "      <td>1</td>\n",
       "      <td>126.922836</td>\n",
       "      <td>37.557365</td>\n",
       "    </tr>\n",
       "    <tr>\n",
       "      <th>17</th>\n",
       "      <td>1984</td>\n",
       "      <td>201402</td>\n",
       "      <td>4</td>\n",
       "      <td>126.922836</td>\n",
       "      <td>37.557365</td>\n",
       "    </tr>\n",
       "    <tr>\n",
       "      <th>18</th>\n",
       "      <td>1984</td>\n",
       "      <td>201403</td>\n",
       "      <td>4</td>\n",
       "      <td>126.922836</td>\n",
       "      <td>37.557365</td>\n",
       "    </tr>\n",
       "    <tr>\n",
       "      <th>19</th>\n",
       "      <td>1984</td>\n",
       "      <td>201404</td>\n",
       "      <td>4</td>\n",
       "      <td>126.922836</td>\n",
       "      <td>37.557365</td>\n",
       "    </tr>\n",
       "  </tbody>\n",
       "</table>\n",
       "</div>"
      ],
      "text/plain": [
       "                   title  year_quarter  counts   longitude   latitude\n",
       "0                 (주)브알라        201302       1  126.925735  37.555205\n",
       "1             (주)슈니발렌코리아        201301       1  126.923825  37.554260\n",
       "2           (주)올리버브라운코리아        201502       1  126.924667  37.555725\n",
       "3              (주)지엔씨미디어        201403       1  126.919502  37.555353\n",
       "4                (주)카페베네        201504       1  126.923601  37.552616\n",
       "5               (주)코코브루니        201303       1  127.026386  37.502341\n",
       "6                (주)터미너스        201403       1  126.917492  37.553089\n",
       "7   100% Original Coffee        201301       1  126.919729  37.548761\n",
       "8        100%오리지날(지하 1층)        201301       1  126.919344  37.549016\n",
       "9                   17도씨        201603       1  126.923165  37.562190\n",
       "10                  17도씨        201704       1  126.923165  37.562190\n",
       "11                  17도씨        201802       1  126.923165  37.562190\n",
       "12                  1984        201301       1  126.922836  37.557365\n",
       "13                  1984        201302       2  126.922836  37.557365\n",
       "14                  1984        201303       7  126.922836  37.557365\n",
       "15                  1984        201304       3  126.922836  37.557365\n",
       "16                  1984        201401       1  126.922836  37.557365\n",
       "17                  1984        201402       4  126.922836  37.557365\n",
       "18                  1984        201403       4  126.922836  37.557365\n",
       "19                  1984        201404       4  126.922836  37.557365"
      ]
     },
     "execution_count": 12,
     "metadata": {},
     "output_type": "execute_result"
    }
   ],
   "source": [
    "hongdae_temp = pd.merge(hongdae_counts, hongdae_long_lat, on = 'title', how='left')\n",
    "hongdae_temp = hongdae_temp.dropna()\n",
    "hongdae_temp.head(20)"
   ]
  },
  {
   "cell_type": "markdown",
   "metadata": {},
   "source": [
    "# 직선 거리"
   ]
  },
  {
   "cell_type": "code",
   "execution_count": 15,
   "metadata": {},
   "outputs": [],
   "source": [
    "import geopy.distance\n",
    "\n",
    "hongdae_subway = [37.5514684,126.9228219]"
   ]
  },
  {
   "cell_type": "code",
   "execution_count": 16,
   "metadata": {},
   "outputs": [],
   "source": [
    "distance = []\n",
    "\n",
    "for index, row in hongdae_temp.iterrows():\n",
    "    temp = [row[\"latitude\"], row[\"longitude\"]]\n",
    "    distance.append(geopy.distance.vincenty(hongdae_subway, temp).km)"
   ]
  },
  {
   "cell_type": "code",
   "execution_count": 17,
   "metadata": {},
   "outputs": [],
   "source": [
    "hongdae_temp[\"distance\"] = distance"
   ]
  },
  {
   "cell_type": "code",
   "execution_count": 18,
   "metadata": {},
   "outputs": [
    {
     "data": {
      "text/html": [
       "<div>\n",
       "<style scoped>\n",
       "    .dataframe tbody tr th:only-of-type {\n",
       "        vertical-align: middle;\n",
       "    }\n",
       "\n",
       "    .dataframe tbody tr th {\n",
       "        vertical-align: top;\n",
       "    }\n",
       "\n",
       "    .dataframe thead th {\n",
       "        text-align: right;\n",
       "    }\n",
       "</style>\n",
       "<table border=\"1\" class=\"dataframe\">\n",
       "  <thead>\n",
       "    <tr style=\"text-align: right;\">\n",
       "      <th></th>\n",
       "      <th>title</th>\n",
       "      <th>year_quarter</th>\n",
       "      <th>counts</th>\n",
       "      <th>longitude</th>\n",
       "      <th>latitude</th>\n",
       "      <th>distance</th>\n",
       "    </tr>\n",
       "  </thead>\n",
       "  <tbody>\n",
       "    <tr>\n",
       "      <th>0</th>\n",
       "      <td>(주)브알라</td>\n",
       "      <td>201302</td>\n",
       "      <td>1</td>\n",
       "      <td>126.925735</td>\n",
       "      <td>37.555205</td>\n",
       "      <td>0.488137</td>\n",
       "    </tr>\n",
       "    <tr>\n",
       "      <th>1</th>\n",
       "      <td>(주)슈니발렌코리아</td>\n",
       "      <td>201301</td>\n",
       "      <td>1</td>\n",
       "      <td>126.923825</td>\n",
       "      <td>37.554260</td>\n",
       "      <td>0.322223</td>\n",
       "    </tr>\n",
       "    <tr>\n",
       "      <th>2</th>\n",
       "      <td>(주)올리버브라운코리아</td>\n",
       "      <td>201502</td>\n",
       "      <td>1</td>\n",
       "      <td>126.924667</td>\n",
       "      <td>37.555725</td>\n",
       "      <td>0.499759</td>\n",
       "    </tr>\n",
       "    <tr>\n",
       "      <th>3</th>\n",
       "      <td>(주)지엔씨미디어</td>\n",
       "      <td>201403</td>\n",
       "      <td>1</td>\n",
       "      <td>126.919502</td>\n",
       "      <td>37.555353</td>\n",
       "      <td>0.521505</td>\n",
       "    </tr>\n",
       "    <tr>\n",
       "      <th>4</th>\n",
       "      <td>(주)카페베네</td>\n",
       "      <td>201504</td>\n",
       "      <td>1</td>\n",
       "      <td>126.923601</td>\n",
       "      <td>37.552616</td>\n",
       "      <td>0.144785</td>\n",
       "    </tr>\n",
       "    <tr>\n",
       "      <th>5</th>\n",
       "      <td>(주)코코브루니</td>\n",
       "      <td>201303</td>\n",
       "      <td>1</td>\n",
       "      <td>127.026386</td>\n",
       "      <td>37.502341</td>\n",
       "      <td>10.655218</td>\n",
       "    </tr>\n",
       "    <tr>\n",
       "      <th>6</th>\n",
       "      <td>(주)터미너스</td>\n",
       "      <td>201403</td>\n",
       "      <td>1</td>\n",
       "      <td>126.917492</td>\n",
       "      <td>37.553089</td>\n",
       "      <td>0.504119</td>\n",
       "    </tr>\n",
       "    <tr>\n",
       "      <th>7</th>\n",
       "      <td>100% Original Coffee</td>\n",
       "      <td>201301</td>\n",
       "      <td>1</td>\n",
       "      <td>126.919729</td>\n",
       "      <td>37.548761</td>\n",
       "      <td>0.406187</td>\n",
       "    </tr>\n",
       "    <tr>\n",
       "      <th>8</th>\n",
       "      <td>100%오리지날(지하 1층)</td>\n",
       "      <td>201301</td>\n",
       "      <td>1</td>\n",
       "      <td>126.919344</td>\n",
       "      <td>37.549016</td>\n",
       "      <td>0.410546</td>\n",
       "    </tr>\n",
       "    <tr>\n",
       "      <th>9</th>\n",
       "      <td>17도씨</td>\n",
       "      <td>201603</td>\n",
       "      <td>1</td>\n",
       "      <td>126.923165</td>\n",
       "      <td>37.562190</td>\n",
       "      <td>1.190411</td>\n",
       "    </tr>\n",
       "    <tr>\n",
       "      <th>10</th>\n",
       "      <td>17도씨</td>\n",
       "      <td>201704</td>\n",
       "      <td>1</td>\n",
       "      <td>126.923165</td>\n",
       "      <td>37.562190</td>\n",
       "      <td>1.190411</td>\n",
       "    </tr>\n",
       "    <tr>\n",
       "      <th>11</th>\n",
       "      <td>17도씨</td>\n",
       "      <td>201802</td>\n",
       "      <td>1</td>\n",
       "      <td>126.923165</td>\n",
       "      <td>37.562190</td>\n",
       "      <td>1.190411</td>\n",
       "    </tr>\n",
       "    <tr>\n",
       "      <th>12</th>\n",
       "      <td>1984</td>\n",
       "      <td>201301</td>\n",
       "      <td>1</td>\n",
       "      <td>126.922836</td>\n",
       "      <td>37.557365</td>\n",
       "      <td>0.654498</td>\n",
       "    </tr>\n",
       "    <tr>\n",
       "      <th>13</th>\n",
       "      <td>1984</td>\n",
       "      <td>201302</td>\n",
       "      <td>2</td>\n",
       "      <td>126.922836</td>\n",
       "      <td>37.557365</td>\n",
       "      <td>0.654498</td>\n",
       "    </tr>\n",
       "    <tr>\n",
       "      <th>14</th>\n",
       "      <td>1984</td>\n",
       "      <td>201303</td>\n",
       "      <td>7</td>\n",
       "      <td>126.922836</td>\n",
       "      <td>37.557365</td>\n",
       "      <td>0.654498</td>\n",
       "    </tr>\n",
       "    <tr>\n",
       "      <th>15</th>\n",
       "      <td>1984</td>\n",
       "      <td>201304</td>\n",
       "      <td>3</td>\n",
       "      <td>126.922836</td>\n",
       "      <td>37.557365</td>\n",
       "      <td>0.654498</td>\n",
       "    </tr>\n",
       "    <tr>\n",
       "      <th>16</th>\n",
       "      <td>1984</td>\n",
       "      <td>201401</td>\n",
       "      <td>1</td>\n",
       "      <td>126.922836</td>\n",
       "      <td>37.557365</td>\n",
       "      <td>0.654498</td>\n",
       "    </tr>\n",
       "    <tr>\n",
       "      <th>17</th>\n",
       "      <td>1984</td>\n",
       "      <td>201402</td>\n",
       "      <td>4</td>\n",
       "      <td>126.922836</td>\n",
       "      <td>37.557365</td>\n",
       "      <td>0.654498</td>\n",
       "    </tr>\n",
       "    <tr>\n",
       "      <th>18</th>\n",
       "      <td>1984</td>\n",
       "      <td>201403</td>\n",
       "      <td>4</td>\n",
       "      <td>126.922836</td>\n",
       "      <td>37.557365</td>\n",
       "      <td>0.654498</td>\n",
       "    </tr>\n",
       "    <tr>\n",
       "      <th>19</th>\n",
       "      <td>1984</td>\n",
       "      <td>201404</td>\n",
       "      <td>4</td>\n",
       "      <td>126.922836</td>\n",
       "      <td>37.557365</td>\n",
       "      <td>0.654498</td>\n",
       "    </tr>\n",
       "  </tbody>\n",
       "</table>\n",
       "</div>"
      ],
      "text/plain": [
       "                   title  year_quarter  counts   longitude   latitude  \\\n",
       "0                 (주)브알라        201302       1  126.925735  37.555205   \n",
       "1             (주)슈니발렌코리아        201301       1  126.923825  37.554260   \n",
       "2           (주)올리버브라운코리아        201502       1  126.924667  37.555725   \n",
       "3              (주)지엔씨미디어        201403       1  126.919502  37.555353   \n",
       "4                (주)카페베네        201504       1  126.923601  37.552616   \n",
       "5               (주)코코브루니        201303       1  127.026386  37.502341   \n",
       "6                (주)터미너스        201403       1  126.917492  37.553089   \n",
       "7   100% Original Coffee        201301       1  126.919729  37.548761   \n",
       "8        100%오리지날(지하 1층)        201301       1  126.919344  37.549016   \n",
       "9                   17도씨        201603       1  126.923165  37.562190   \n",
       "10                  17도씨        201704       1  126.923165  37.562190   \n",
       "11                  17도씨        201802       1  126.923165  37.562190   \n",
       "12                  1984        201301       1  126.922836  37.557365   \n",
       "13                  1984        201302       2  126.922836  37.557365   \n",
       "14                  1984        201303       7  126.922836  37.557365   \n",
       "15                  1984        201304       3  126.922836  37.557365   \n",
       "16                  1984        201401       1  126.922836  37.557365   \n",
       "17                  1984        201402       4  126.922836  37.557365   \n",
       "18                  1984        201403       4  126.922836  37.557365   \n",
       "19                  1984        201404       4  126.922836  37.557365   \n",
       "\n",
       "     distance  \n",
       "0    0.488137  \n",
       "1    0.322223  \n",
       "2    0.499759  \n",
       "3    0.521505  \n",
       "4    0.144785  \n",
       "5   10.655218  \n",
       "6    0.504119  \n",
       "7    0.406187  \n",
       "8    0.410546  \n",
       "9    1.190411  \n",
       "10   1.190411  \n",
       "11   1.190411  \n",
       "12   0.654498  \n",
       "13   0.654498  \n",
       "14   0.654498  \n",
       "15   0.654498  \n",
       "16   0.654498  \n",
       "17   0.654498  \n",
       "18   0.654498  \n",
       "19   0.654498  "
      ]
     },
     "execution_count": 18,
     "metadata": {},
     "output_type": "execute_result"
    }
   ],
   "source": [
    "hongdae_temp.head(20)"
   ]
  },
  {
   "cell_type": "markdown",
   "metadata": {},
   "source": [
    "## 이상치 제거"
   ]
  },
  {
   "cell_type": "markdown",
   "metadata": {},
   "source": [
    "직선거리 카테고리화"
   ]
  },
  {
   "cell_type": "code",
   "execution_count": 19,
   "metadata": {},
   "outputs": [
    {
     "data": {
      "text/html": [
       "<div>\n",
       "<style scoped>\n",
       "    .dataframe tbody tr th:only-of-type {\n",
       "        vertical-align: middle;\n",
       "    }\n",
       "\n",
       "    .dataframe tbody tr th {\n",
       "        vertical-align: top;\n",
       "    }\n",
       "\n",
       "    .dataframe thead th {\n",
       "        text-align: right;\n",
       "    }\n",
       "</style>\n",
       "<table border=\"1\" class=\"dataframe\">\n",
       "  <thead>\n",
       "    <tr style=\"text-align: right;\">\n",
       "      <th></th>\n",
       "      <th>title</th>\n",
       "      <th>year_quarter</th>\n",
       "      <th>counts</th>\n",
       "      <th>longitude</th>\n",
       "      <th>latitude</th>\n",
       "      <th>distance</th>\n",
       "      <th>dist_arange</th>\n",
       "    </tr>\n",
       "  </thead>\n",
       "  <tbody>\n",
       "    <tr>\n",
       "      <th>0</th>\n",
       "      <td>(주)브알라</td>\n",
       "      <td>201302</td>\n",
       "      <td>1</td>\n",
       "      <td>126.925735</td>\n",
       "      <td>37.555205</td>\n",
       "      <td>0.488137</td>\n",
       "      <td>500m</td>\n",
       "    </tr>\n",
       "    <tr>\n",
       "      <th>1</th>\n",
       "      <td>(주)슈니발렌코리아</td>\n",
       "      <td>201301</td>\n",
       "      <td>1</td>\n",
       "      <td>126.923825</td>\n",
       "      <td>37.554260</td>\n",
       "      <td>0.322223</td>\n",
       "      <td>500m</td>\n",
       "    </tr>\n",
       "    <tr>\n",
       "      <th>2</th>\n",
       "      <td>(주)올리버브라운코리아</td>\n",
       "      <td>201502</td>\n",
       "      <td>1</td>\n",
       "      <td>126.924667</td>\n",
       "      <td>37.555725</td>\n",
       "      <td>0.499759</td>\n",
       "      <td>500m</td>\n",
       "    </tr>\n",
       "    <tr>\n",
       "      <th>3</th>\n",
       "      <td>(주)지엔씨미디어</td>\n",
       "      <td>201403</td>\n",
       "      <td>1</td>\n",
       "      <td>126.919502</td>\n",
       "      <td>37.555353</td>\n",
       "      <td>0.521505</td>\n",
       "      <td>1000m</td>\n",
       "    </tr>\n",
       "    <tr>\n",
       "      <th>4</th>\n",
       "      <td>(주)카페베네</td>\n",
       "      <td>201504</td>\n",
       "      <td>1</td>\n",
       "      <td>126.923601</td>\n",
       "      <td>37.552616</td>\n",
       "      <td>0.144785</td>\n",
       "      <td>500m</td>\n",
       "    </tr>\n",
       "    <tr>\n",
       "      <th>5</th>\n",
       "      <td>(주)코코브루니</td>\n",
       "      <td>201303</td>\n",
       "      <td>1</td>\n",
       "      <td>127.026386</td>\n",
       "      <td>37.502341</td>\n",
       "      <td>10.655218</td>\n",
       "      <td>na</td>\n",
       "    </tr>\n",
       "    <tr>\n",
       "      <th>6</th>\n",
       "      <td>(주)터미너스</td>\n",
       "      <td>201403</td>\n",
       "      <td>1</td>\n",
       "      <td>126.917492</td>\n",
       "      <td>37.553089</td>\n",
       "      <td>0.504119</td>\n",
       "      <td>1000m</td>\n",
       "    </tr>\n",
       "    <tr>\n",
       "      <th>7</th>\n",
       "      <td>100% Original Coffee</td>\n",
       "      <td>201301</td>\n",
       "      <td>1</td>\n",
       "      <td>126.919729</td>\n",
       "      <td>37.548761</td>\n",
       "      <td>0.406187</td>\n",
       "      <td>500m</td>\n",
       "    </tr>\n",
       "    <tr>\n",
       "      <th>8</th>\n",
       "      <td>100%오리지날(지하 1층)</td>\n",
       "      <td>201301</td>\n",
       "      <td>1</td>\n",
       "      <td>126.919344</td>\n",
       "      <td>37.549016</td>\n",
       "      <td>0.410546</td>\n",
       "      <td>500m</td>\n",
       "    </tr>\n",
       "    <tr>\n",
       "      <th>9</th>\n",
       "      <td>17도씨</td>\n",
       "      <td>201603</td>\n",
       "      <td>1</td>\n",
       "      <td>126.923165</td>\n",
       "      <td>37.562190</td>\n",
       "      <td>1.190411</td>\n",
       "      <td>1500m</td>\n",
       "    </tr>\n",
       "    <tr>\n",
       "      <th>10</th>\n",
       "      <td>17도씨</td>\n",
       "      <td>201704</td>\n",
       "      <td>1</td>\n",
       "      <td>126.923165</td>\n",
       "      <td>37.562190</td>\n",
       "      <td>1.190411</td>\n",
       "      <td>1500m</td>\n",
       "    </tr>\n",
       "    <tr>\n",
       "      <th>11</th>\n",
       "      <td>17도씨</td>\n",
       "      <td>201802</td>\n",
       "      <td>1</td>\n",
       "      <td>126.923165</td>\n",
       "      <td>37.562190</td>\n",
       "      <td>1.190411</td>\n",
       "      <td>1500m</td>\n",
       "    </tr>\n",
       "    <tr>\n",
       "      <th>12</th>\n",
       "      <td>1984</td>\n",
       "      <td>201301</td>\n",
       "      <td>1</td>\n",
       "      <td>126.922836</td>\n",
       "      <td>37.557365</td>\n",
       "      <td>0.654498</td>\n",
       "      <td>1000m</td>\n",
       "    </tr>\n",
       "    <tr>\n",
       "      <th>13</th>\n",
       "      <td>1984</td>\n",
       "      <td>201302</td>\n",
       "      <td>2</td>\n",
       "      <td>126.922836</td>\n",
       "      <td>37.557365</td>\n",
       "      <td>0.654498</td>\n",
       "      <td>1000m</td>\n",
       "    </tr>\n",
       "    <tr>\n",
       "      <th>14</th>\n",
       "      <td>1984</td>\n",
       "      <td>201303</td>\n",
       "      <td>7</td>\n",
       "      <td>126.922836</td>\n",
       "      <td>37.557365</td>\n",
       "      <td>0.654498</td>\n",
       "      <td>1000m</td>\n",
       "    </tr>\n",
       "    <tr>\n",
       "      <th>15</th>\n",
       "      <td>1984</td>\n",
       "      <td>201304</td>\n",
       "      <td>3</td>\n",
       "      <td>126.922836</td>\n",
       "      <td>37.557365</td>\n",
       "      <td>0.654498</td>\n",
       "      <td>1000m</td>\n",
       "    </tr>\n",
       "    <tr>\n",
       "      <th>16</th>\n",
       "      <td>1984</td>\n",
       "      <td>201401</td>\n",
       "      <td>1</td>\n",
       "      <td>126.922836</td>\n",
       "      <td>37.557365</td>\n",
       "      <td>0.654498</td>\n",
       "      <td>1000m</td>\n",
       "    </tr>\n",
       "    <tr>\n",
       "      <th>17</th>\n",
       "      <td>1984</td>\n",
       "      <td>201402</td>\n",
       "      <td>4</td>\n",
       "      <td>126.922836</td>\n",
       "      <td>37.557365</td>\n",
       "      <td>0.654498</td>\n",
       "      <td>1000m</td>\n",
       "    </tr>\n",
       "    <tr>\n",
       "      <th>18</th>\n",
       "      <td>1984</td>\n",
       "      <td>201403</td>\n",
       "      <td>4</td>\n",
       "      <td>126.922836</td>\n",
       "      <td>37.557365</td>\n",
       "      <td>0.654498</td>\n",
       "      <td>1000m</td>\n",
       "    </tr>\n",
       "    <tr>\n",
       "      <th>19</th>\n",
       "      <td>1984</td>\n",
       "      <td>201404</td>\n",
       "      <td>4</td>\n",
       "      <td>126.922836</td>\n",
       "      <td>37.557365</td>\n",
       "      <td>0.654498</td>\n",
       "      <td>1000m</td>\n",
       "    </tr>\n",
       "  </tbody>\n",
       "</table>\n",
       "</div>"
      ],
      "text/plain": [
       "                   title  year_quarter  counts   longitude   latitude  \\\n",
       "0                 (주)브알라        201302       1  126.925735  37.555205   \n",
       "1             (주)슈니발렌코리아        201301       1  126.923825  37.554260   \n",
       "2           (주)올리버브라운코리아        201502       1  126.924667  37.555725   \n",
       "3              (주)지엔씨미디어        201403       1  126.919502  37.555353   \n",
       "4                (주)카페베네        201504       1  126.923601  37.552616   \n",
       "5               (주)코코브루니        201303       1  127.026386  37.502341   \n",
       "6                (주)터미너스        201403       1  126.917492  37.553089   \n",
       "7   100% Original Coffee        201301       1  126.919729  37.548761   \n",
       "8        100%오리지날(지하 1층)        201301       1  126.919344  37.549016   \n",
       "9                   17도씨        201603       1  126.923165  37.562190   \n",
       "10                  17도씨        201704       1  126.923165  37.562190   \n",
       "11                  17도씨        201802       1  126.923165  37.562190   \n",
       "12                  1984        201301       1  126.922836  37.557365   \n",
       "13                  1984        201302       2  126.922836  37.557365   \n",
       "14                  1984        201303       7  126.922836  37.557365   \n",
       "15                  1984        201304       3  126.922836  37.557365   \n",
       "16                  1984        201401       1  126.922836  37.557365   \n",
       "17                  1984        201402       4  126.922836  37.557365   \n",
       "18                  1984        201403       4  126.922836  37.557365   \n",
       "19                  1984        201404       4  126.922836  37.557365   \n",
       "\n",
       "     distance dist_arange  \n",
       "0    0.488137        500m  \n",
       "1    0.322223        500m  \n",
       "2    0.499759        500m  \n",
       "3    0.521505       1000m  \n",
       "4    0.144785        500m  \n",
       "5   10.655218          na  \n",
       "6    0.504119       1000m  \n",
       "7    0.406187        500m  \n",
       "8    0.410546        500m  \n",
       "9    1.190411       1500m  \n",
       "10   1.190411       1500m  \n",
       "11   1.190411       1500m  \n",
       "12   0.654498       1000m  \n",
       "13   0.654498       1000m  \n",
       "14   0.654498       1000m  \n",
       "15   0.654498       1000m  \n",
       "16   0.654498       1000m  \n",
       "17   0.654498       1000m  \n",
       "18   0.654498       1000m  \n",
       "19   0.654498       1000m  "
      ]
     },
     "execution_count": 19,
     "metadata": {},
     "output_type": "execute_result"
    }
   ],
   "source": [
    "dist_arange = []\n",
    "\n",
    "for index, row in hongdae_temp.iterrows():\n",
    "    if row[\"distance\"] <= 0.5:\n",
    "        dist_arange.append(\"500m\")\n",
    "    elif row[\"distance\"] <= 1:\n",
    "        dist_arange.append(\"1000m\")\n",
    "    elif row[\"distance\"] <= 1.5:\n",
    "        dist_arange.append(\"1500m\")\n",
    "    elif row[\"distance\"] <= 2:\n",
    "        dist_arange.append(\"2000m\")\n",
    "    else:\n",
    "        dist_arange.append(\"na\")\n",
    "    \n",
    "hongdae_temp[\"dist_arange\"] = dist_arange\n",
    "hongdae_temp.head(20)"
   ]
  },
  {
   "cell_type": "code",
   "execution_count": 20,
   "metadata": {},
   "outputs": [
    {
     "data": {
      "text/html": [
       "<div>\n",
       "<style scoped>\n",
       "    .dataframe tbody tr th:only-of-type {\n",
       "        vertical-align: middle;\n",
       "    }\n",
       "\n",
       "    .dataframe tbody tr th {\n",
       "        vertical-align: top;\n",
       "    }\n",
       "\n",
       "    .dataframe thead th {\n",
       "        text-align: right;\n",
       "    }\n",
       "</style>\n",
       "<table border=\"1\" class=\"dataframe\">\n",
       "  <thead>\n",
       "    <tr style=\"text-align: right;\">\n",
       "      <th></th>\n",
       "      <th>title</th>\n",
       "      <th>year_quarter</th>\n",
       "      <th>counts</th>\n",
       "      <th>longitude</th>\n",
       "      <th>latitude</th>\n",
       "      <th>distance</th>\n",
       "    </tr>\n",
       "    <tr>\n",
       "      <th>dist_arange</th>\n",
       "      <th></th>\n",
       "      <th></th>\n",
       "      <th></th>\n",
       "      <th></th>\n",
       "      <th></th>\n",
       "      <th></th>\n",
       "    </tr>\n",
       "  </thead>\n",
       "  <tbody>\n",
       "    <tr>\n",
       "      <th>1000m</th>\n",
       "      <td>1958</td>\n",
       "      <td>1958</td>\n",
       "      <td>1958</td>\n",
       "      <td>1958</td>\n",
       "      <td>1958</td>\n",
       "      <td>1958</td>\n",
       "    </tr>\n",
       "    <tr>\n",
       "      <th>1500m</th>\n",
       "      <td>148</td>\n",
       "      <td>148</td>\n",
       "      <td>148</td>\n",
       "      <td>148</td>\n",
       "      <td>148</td>\n",
       "      <td>148</td>\n",
       "    </tr>\n",
       "    <tr>\n",
       "      <th>2000m</th>\n",
       "      <td>23</td>\n",
       "      <td>23</td>\n",
       "      <td>23</td>\n",
       "      <td>23</td>\n",
       "      <td>23</td>\n",
       "      <td>23</td>\n",
       "    </tr>\n",
       "    <tr>\n",
       "      <th>500m</th>\n",
       "      <td>3001</td>\n",
       "      <td>3001</td>\n",
       "      <td>3001</td>\n",
       "      <td>3001</td>\n",
       "      <td>3001</td>\n",
       "      <td>3001</td>\n",
       "    </tr>\n",
       "    <tr>\n",
       "      <th>na</th>\n",
       "      <td>64</td>\n",
       "      <td>64</td>\n",
       "      <td>64</td>\n",
       "      <td>64</td>\n",
       "      <td>64</td>\n",
       "      <td>64</td>\n",
       "    </tr>\n",
       "  </tbody>\n",
       "</table>\n",
       "</div>"
      ],
      "text/plain": [
       "             title  year_quarter  counts  longitude  latitude  distance\n",
       "dist_arange                                                            \n",
       "1000m         1958          1958    1958       1958      1958      1958\n",
       "1500m          148           148     148        148       148       148\n",
       "2000m           23            23      23         23        23        23\n",
       "500m          3001          3001    3001       3001      3001      3001\n",
       "na              64            64      64         64        64        64"
      ]
     },
     "execution_count": 20,
     "metadata": {},
     "output_type": "execute_result"
    }
   ],
   "source": [
    "hongdae_temp.groupby('dist_arange').count()"
   ]
  },
  {
   "cell_type": "code",
   "execution_count": 21,
   "metadata": {},
   "outputs": [
    {
     "data": {
      "text/plain": [
       "title           5130\n",
       "year_quarter    5130\n",
       "counts          5130\n",
       "longitude       5130\n",
       "latitude        5130\n",
       "distance        5130\n",
       "dist_arange     5130\n",
       "dtype: int64"
      ]
     },
     "execution_count": 21,
     "metadata": {},
     "output_type": "execute_result"
    }
   ],
   "source": [
    "hongdae_final = hongdae_temp[hongdae_temp.dist_arange != 'na']\n",
    "hongdae_final.count()"
   ]
  },
  {
   "cell_type": "markdown",
   "metadata": {},
   "source": [
    "# 연도 카테고리화"
   ]
  },
  {
   "cell_type": "code",
   "execution_count": 22,
   "metadata": {},
   "outputs": [
    {
     "name": "stderr",
     "output_type": "stream",
     "text": [
      "/Users/jyeeee95/anaconda3/lib/python3.6/site-packages/ipykernel_launcher.py:19: SettingWithCopyWarning:\n",
      "\n",
      "\n",
      "A value is trying to be set on a copy of a slice from a DataFrame.\n",
      "Try using .loc[row_indexer,col_indexer] = value instead\n",
      "\n",
      "See the caveats in the documentation: http://pandas.pydata.org/pandas-docs/stable/indexing.html#indexing-view-versus-copy\n",
      "\n"
     ]
    },
    {
     "data": {
      "text/html": [
       "<div>\n",
       "<style scoped>\n",
       "    .dataframe tbody tr th:only-of-type {\n",
       "        vertical-align: middle;\n",
       "    }\n",
       "\n",
       "    .dataframe tbody tr th {\n",
       "        vertical-align: top;\n",
       "    }\n",
       "\n",
       "    .dataframe thead th {\n",
       "        text-align: right;\n",
       "    }\n",
       "</style>\n",
       "<table border=\"1\" class=\"dataframe\">\n",
       "  <thead>\n",
       "    <tr style=\"text-align: right;\">\n",
       "      <th></th>\n",
       "      <th>title</th>\n",
       "      <th>year_quarter</th>\n",
       "      <th>counts</th>\n",
       "      <th>longitude</th>\n",
       "      <th>latitude</th>\n",
       "      <th>distance</th>\n",
       "      <th>dist_arange</th>\n",
       "      <th>year</th>\n",
       "    </tr>\n",
       "  </thead>\n",
       "  <tbody>\n",
       "    <tr>\n",
       "      <th>0</th>\n",
       "      <td>(주)브알라</td>\n",
       "      <td>201302</td>\n",
       "      <td>1</td>\n",
       "      <td>126.925735</td>\n",
       "      <td>37.555205</td>\n",
       "      <td>0.488137</td>\n",
       "      <td>500m</td>\n",
       "      <td>2013</td>\n",
       "    </tr>\n",
       "    <tr>\n",
       "      <th>1</th>\n",
       "      <td>(주)슈니발렌코리아</td>\n",
       "      <td>201301</td>\n",
       "      <td>1</td>\n",
       "      <td>126.923825</td>\n",
       "      <td>37.554260</td>\n",
       "      <td>0.322223</td>\n",
       "      <td>500m</td>\n",
       "      <td>2013</td>\n",
       "    </tr>\n",
       "    <tr>\n",
       "      <th>2</th>\n",
       "      <td>(주)올리버브라운코리아</td>\n",
       "      <td>201502</td>\n",
       "      <td>1</td>\n",
       "      <td>126.924667</td>\n",
       "      <td>37.555725</td>\n",
       "      <td>0.499759</td>\n",
       "      <td>500m</td>\n",
       "      <td>2015</td>\n",
       "    </tr>\n",
       "    <tr>\n",
       "      <th>3</th>\n",
       "      <td>(주)지엔씨미디어</td>\n",
       "      <td>201403</td>\n",
       "      <td>1</td>\n",
       "      <td>126.919502</td>\n",
       "      <td>37.555353</td>\n",
       "      <td>0.521505</td>\n",
       "      <td>1000m</td>\n",
       "      <td>2014</td>\n",
       "    </tr>\n",
       "    <tr>\n",
       "      <th>4</th>\n",
       "      <td>(주)카페베네</td>\n",
       "      <td>201504</td>\n",
       "      <td>1</td>\n",
       "      <td>126.923601</td>\n",
       "      <td>37.552616</td>\n",
       "      <td>0.144785</td>\n",
       "      <td>500m</td>\n",
       "      <td>2015</td>\n",
       "    </tr>\n",
       "  </tbody>\n",
       "</table>\n",
       "</div>"
      ],
      "text/plain": [
       "          title  year_quarter  counts   longitude   latitude  distance  \\\n",
       "0        (주)브알라        201302       1  126.925735  37.555205  0.488137   \n",
       "1    (주)슈니발렌코리아        201301       1  126.923825  37.554260  0.322223   \n",
       "2  (주)올리버브라운코리아        201502       1  126.924667  37.555725  0.499759   \n",
       "3     (주)지엔씨미디어        201403       1  126.919502  37.555353  0.521505   \n",
       "4       (주)카페베네        201504       1  126.923601  37.552616  0.144785   \n",
       "\n",
       "  dist_arange  year  \n",
       "0        500m  2013  \n",
       "1        500m  2013  \n",
       "2        500m  2015  \n",
       "3       1000m  2014  \n",
       "4        500m  2015  "
      ]
     },
     "execution_count": 22,
     "metadata": {},
     "output_type": "execute_result"
    }
   ],
   "source": [
    "year_arange = []\n",
    "\n",
    "for index, row in hongdae_final.iterrows():\n",
    "    if row[\"year_quarter\"] <= 201300:\n",
    "        year_arange.append(\"2012\")\n",
    "    elif row[\"year_quarter\"] <= 201400:\n",
    "        year_arange.append(\"2013\")\n",
    "    elif row[\"year_quarter\"] <= 201500:\n",
    "        year_arange.append(\"2014\")\n",
    "    elif row[\"year_quarter\"] <= 201600:\n",
    "        year_arange.append(\"2015\")\n",
    "    elif row[\"year_quarter\"] <= 201700:\n",
    "        year_arange.append(\"2016\")\n",
    "    elif row[\"year_quarter\"] <= 201800:\n",
    "        year_arange.append(\"2017\")\n",
    "    else:\n",
    "        year_arange.append(\"2018\")\n",
    "    \n",
    "hongdae_final[\"year\"] = year_arange\n",
    "hongdae_final.head()"
   ]
  },
  {
   "cell_type": "code",
   "execution_count": 23,
   "metadata": {},
   "outputs": [
    {
     "name": "stdout",
     "output_type": "stream",
     "text": [
      "<class 'pandas.core.frame.DataFrame'>\n",
      "Int64Index: 5130 entries, 0 to 5193\n",
      "Data columns (total 8 columns):\n",
      "title           5130 non-null object\n",
      "year_quarter    5130 non-null int64\n",
      "counts          5130 non-null int64\n",
      "longitude       5130 non-null float64\n",
      "latitude        5130 non-null float64\n",
      "distance        5130 non-null float64\n",
      "dist_arange     5130 non-null object\n",
      "year            5130 non-null int64\n",
      "dtypes: float64(3), int64(3), object(2)\n",
      "memory usage: 360.7+ KB\n"
     ]
    },
    {
     "name": "stderr",
     "output_type": "stream",
     "text": [
      "/Users/jyeeee95/anaconda3/lib/python3.6/site-packages/pandas/core/generic.py:4405: SettingWithCopyWarning:\n",
      "\n",
      "\n",
      "A value is trying to be set on a copy of a slice from a DataFrame.\n",
      "Try using .loc[row_indexer,col_indexer] = value instead\n",
      "\n",
      "See the caveats in the documentation: http://pandas.pydata.org/pandas-docs/stable/indexing.html#indexing-view-versus-copy\n",
      "\n"
     ]
    }
   ],
   "source": [
    "hongdae_final.year = hongdae_final.year.astype(int)\n",
    "hongdae_final.year_quarter = hongdae_final.year_quarter.astype(int)\n",
    "hongdae_final.info()"
   ]
  },
  {
   "cell_type": "code",
   "execution_count": 24,
   "metadata": {},
   "outputs": [
    {
     "data": {
      "text/html": [
       "<div>\n",
       "<style scoped>\n",
       "    .dataframe tbody tr th:only-of-type {\n",
       "        vertical-align: middle;\n",
       "    }\n",
       "\n",
       "    .dataframe tbody tr th {\n",
       "        vertical-align: top;\n",
       "    }\n",
       "\n",
       "    .dataframe thead th {\n",
       "        text-align: right;\n",
       "    }\n",
       "</style>\n",
       "<table border=\"1\" class=\"dataframe\">\n",
       "  <thead>\n",
       "    <tr style=\"text-align: right;\">\n",
       "      <th></th>\n",
       "      <th>title</th>\n",
       "      <th>year</th>\n",
       "      <th>year_quarter</th>\n",
       "      <th>latitude</th>\n",
       "      <th>longitude</th>\n",
       "      <th>distance</th>\n",
       "      <th>dist_arange</th>\n",
       "      <th>counts</th>\n",
       "    </tr>\n",
       "  </thead>\n",
       "  <tbody>\n",
       "    <tr>\n",
       "      <th>5125</th>\n",
       "      <td>피오니</td>\n",
       "      <td>2018</td>\n",
       "      <td>201802</td>\n",
       "      <td>37.549945</td>\n",
       "      <td>126.921245</td>\n",
       "      <td>0.219119</td>\n",
       "      <td>500m</td>\n",
       "      <td>4</td>\n",
       "    </tr>\n",
       "    <tr>\n",
       "      <th>5126</th>\n",
       "      <td>피팅룸</td>\n",
       "      <td>2018</td>\n",
       "      <td>201802</td>\n",
       "      <td>37.562134</td>\n",
       "      <td>126.917717</td>\n",
       "      <td>1.266753</td>\n",
       "      <td>1500m</td>\n",
       "      <td>2</td>\n",
       "    </tr>\n",
       "    <tr>\n",
       "      <th>5127</th>\n",
       "      <td>허밍벨라</td>\n",
       "      <td>2018</td>\n",
       "      <td>201802</td>\n",
       "      <td>37.550329</td>\n",
       "      <td>126.919995</td>\n",
       "      <td>0.280010</td>\n",
       "      <td>500m</td>\n",
       "      <td>4</td>\n",
       "    </tr>\n",
       "    <tr>\n",
       "      <th>5128</th>\n",
       "      <td>홍대반지카페</td>\n",
       "      <td>2018</td>\n",
       "      <td>201802</td>\n",
       "      <td>37.552110</td>\n",
       "      <td>126.921282</td>\n",
       "      <td>0.153564</td>\n",
       "      <td>500m</td>\n",
       "      <td>7</td>\n",
       "    </tr>\n",
       "    <tr>\n",
       "      <th>5129</th>\n",
       "      <td>히트VR 본점</td>\n",
       "      <td>2018</td>\n",
       "      <td>201802</td>\n",
       "      <td>37.555669</td>\n",
       "      <td>126.921595</td>\n",
       "      <td>0.478680</td>\n",
       "      <td>500m</td>\n",
       "      <td>1</td>\n",
       "    </tr>\n",
       "  </tbody>\n",
       "</table>\n",
       "</div>"
      ],
      "text/plain": [
       "        title  year  year_quarter   latitude   longitude  distance  \\\n",
       "5125      피오니  2018        201802  37.549945  126.921245  0.219119   \n",
       "5126      피팅룸  2018        201802  37.562134  126.917717  1.266753   \n",
       "5127     허밍벨라  2018        201802  37.550329  126.919995  0.280010   \n",
       "5128   홍대반지카페  2018        201802  37.552110  126.921282  0.153564   \n",
       "5129  히트VR 본점  2018        201802  37.555669  126.921595  0.478680   \n",
       "\n",
       "     dist_arange  counts  \n",
       "5125        500m       4  \n",
       "5126       1500m       2  \n",
       "5127        500m       4  \n",
       "5128        500m       7  \n",
       "5129        500m       1  "
      ]
     },
     "execution_count": 24,
     "metadata": {},
     "output_type": "execute_result"
    }
   ],
   "source": [
    "hongdae_final = hongdae_final[['title', 'year', 'year_quarter', 'latitude', 'longitude', 'distance', 'dist_arange', 'counts']]\n",
    "hongdae_final = hongdae_final.sort_values(by=['year_quarter', 'title'], ascending = True)\n",
    "hongdae_final = hongdae_final.reset_index(drop=True)\n",
    "hongdae_final.tail()"
   ]
  },
  {
   "cell_type": "markdown",
   "metadata": {},
   "source": [
    "# 전체 데이터의 중간 지점은?"
   ]
  },
  {
   "cell_type": "markdown",
   "metadata": {},
   "source": [
    "37.55335711336623, 126.92304845641321"
   ]
  },
  {
   "cell_type": "code",
   "execution_count": 25,
   "metadata": {},
   "outputs": [
    {
     "data": {
      "text/plain": [
       "126.94370301786932"
      ]
     },
     "execution_count": 25,
     "metadata": {},
     "output_type": "execute_result"
    }
   ],
   "source": [
    "hongdae_final['longitude'].max()"
   ]
  },
  {
   "cell_type": "code",
   "execution_count": 26,
   "metadata": {},
   "outputs": [
    {
     "data": {
      "text/plain": [
       "126.9035702"
      ]
     },
     "execution_count": 26,
     "metadata": {},
     "output_type": "execute_result"
    }
   ],
   "source": [
    "hongdae_final['longitude'].min()"
   ]
  },
  {
   "cell_type": "code",
   "execution_count": 27,
   "metadata": {},
   "outputs": [
    {
     "data": {
      "text/plain": [
       "126.92304845641321"
      ]
     },
     "execution_count": 27,
     "metadata": {},
     "output_type": "execute_result"
    }
   ],
   "source": [
    "hongdae_final['longitude'].mean()"
   ]
  },
  {
   "cell_type": "code",
   "execution_count": 28,
   "metadata": {},
   "outputs": [
    {
     "data": {
      "text/plain": [
       "37.56833329991762"
      ]
     },
     "execution_count": 28,
     "metadata": {},
     "output_type": "execute_result"
    }
   ],
   "source": [
    "hongdae_final['latitude'].max()"
   ]
  },
  {
   "cell_type": "code",
   "execution_count": 29,
   "metadata": {},
   "outputs": [
    {
     "data": {
      "text/plain": [
       "37.544986200000004"
      ]
     },
     "execution_count": 29,
     "metadata": {},
     "output_type": "execute_result"
    }
   ],
   "source": [
    "hongdae_final['latitude'].min()"
   ]
  },
  {
   "cell_type": "code",
   "execution_count": 30,
   "metadata": {},
   "outputs": [
    {
     "data": {
      "text/plain": [
       "37.55335711336623"
      ]
     },
     "execution_count": 30,
     "metadata": {},
     "output_type": "execute_result"
    }
   ],
   "source": [
    "hongdae_final['latitude'].mean()"
   ]
  },
  {
   "cell_type": "code",
   "execution_count": null,
   "metadata": {},
   "outputs": [],
   "source": []
  },
  {
   "cell_type": "markdown",
   "metadata": {},
   "source": [
    "# unify data sample size"
   ]
  },
  {
   "cell_type": "code",
   "execution_count": 31,
   "metadata": {},
   "outputs": [
    {
     "data": {
      "text/html": [
       "<div>\n",
       "<style scoped>\n",
       "    .dataframe tbody tr th:only-of-type {\n",
       "        vertical-align: middle;\n",
       "    }\n",
       "\n",
       "    .dataframe tbody tr th {\n",
       "        vertical-align: top;\n",
       "    }\n",
       "\n",
       "    .dataframe thead th {\n",
       "        text-align: right;\n",
       "    }\n",
       "</style>\n",
       "<table border=\"1\" class=\"dataframe\">\n",
       "  <thead>\n",
       "    <tr style=\"text-align: right;\">\n",
       "      <th></th>\n",
       "      <th>title</th>\n",
       "      <th>year</th>\n",
       "      <th>latitude</th>\n",
       "      <th>longitude</th>\n",
       "      <th>distance</th>\n",
       "      <th>dist_arange</th>\n",
       "      <th>counts</th>\n",
       "    </tr>\n",
       "    <tr>\n",
       "      <th>year_quarter</th>\n",
       "      <th></th>\n",
       "      <th></th>\n",
       "      <th></th>\n",
       "      <th></th>\n",
       "      <th></th>\n",
       "      <th></th>\n",
       "      <th></th>\n",
       "    </tr>\n",
       "  </thead>\n",
       "  <tbody>\n",
       "    <tr>\n",
       "      <th>201203</th>\n",
       "      <td>142</td>\n",
       "      <td>142</td>\n",
       "      <td>142</td>\n",
       "      <td>142</td>\n",
       "      <td>142</td>\n",
       "      <td>142</td>\n",
       "      <td>142</td>\n",
       "    </tr>\n",
       "    <tr>\n",
       "      <th>201204</th>\n",
       "      <td>161</td>\n",
       "      <td>161</td>\n",
       "      <td>161</td>\n",
       "      <td>161</td>\n",
       "      <td>161</td>\n",
       "      <td>161</td>\n",
       "      <td>161</td>\n",
       "    </tr>\n",
       "    <tr>\n",
       "      <th>201301</th>\n",
       "      <td>209</td>\n",
       "      <td>209</td>\n",
       "      <td>209</td>\n",
       "      <td>209</td>\n",
       "      <td>209</td>\n",
       "      <td>209</td>\n",
       "      <td>209</td>\n",
       "    </tr>\n",
       "    <tr>\n",
       "      <th>201302</th>\n",
       "      <td>200</td>\n",
       "      <td>200</td>\n",
       "      <td>200</td>\n",
       "      <td>200</td>\n",
       "      <td>200</td>\n",
       "      <td>200</td>\n",
       "      <td>200</td>\n",
       "    </tr>\n",
       "    <tr>\n",
       "      <th>201303</th>\n",
       "      <td>199</td>\n",
       "      <td>199</td>\n",
       "      <td>199</td>\n",
       "      <td>199</td>\n",
       "      <td>199</td>\n",
       "      <td>199</td>\n",
       "      <td>199</td>\n",
       "    </tr>\n",
       "    <tr>\n",
       "      <th>201304</th>\n",
       "      <td>231</td>\n",
       "      <td>231</td>\n",
       "      <td>231</td>\n",
       "      <td>231</td>\n",
       "      <td>231</td>\n",
       "      <td>231</td>\n",
       "      <td>231</td>\n",
       "    </tr>\n",
       "    <tr>\n",
       "      <th>201401</th>\n",
       "      <td>230</td>\n",
       "      <td>230</td>\n",
       "      <td>230</td>\n",
       "      <td>230</td>\n",
       "      <td>230</td>\n",
       "      <td>230</td>\n",
       "      <td>230</td>\n",
       "    </tr>\n",
       "    <tr>\n",
       "      <th>201402</th>\n",
       "      <td>246</td>\n",
       "      <td>246</td>\n",
       "      <td>246</td>\n",
       "      <td>246</td>\n",
       "      <td>246</td>\n",
       "      <td>246</td>\n",
       "      <td>246</td>\n",
       "    </tr>\n",
       "    <tr>\n",
       "      <th>201403</th>\n",
       "      <td>259</td>\n",
       "      <td>259</td>\n",
       "      <td>259</td>\n",
       "      <td>259</td>\n",
       "      <td>259</td>\n",
       "      <td>259</td>\n",
       "      <td>259</td>\n",
       "    </tr>\n",
       "    <tr>\n",
       "      <th>201404</th>\n",
       "      <td>243</td>\n",
       "      <td>243</td>\n",
       "      <td>243</td>\n",
       "      <td>243</td>\n",
       "      <td>243</td>\n",
       "      <td>243</td>\n",
       "      <td>243</td>\n",
       "    </tr>\n",
       "    <tr>\n",
       "      <th>201501</th>\n",
       "      <td>252</td>\n",
       "      <td>252</td>\n",
       "      <td>252</td>\n",
       "      <td>252</td>\n",
       "      <td>252</td>\n",
       "      <td>252</td>\n",
       "      <td>252</td>\n",
       "    </tr>\n",
       "    <tr>\n",
       "      <th>201502</th>\n",
       "      <td>255</td>\n",
       "      <td>255</td>\n",
       "      <td>255</td>\n",
       "      <td>255</td>\n",
       "      <td>255</td>\n",
       "      <td>255</td>\n",
       "      <td>255</td>\n",
       "    </tr>\n",
       "    <tr>\n",
       "      <th>201503</th>\n",
       "      <td>268</td>\n",
       "      <td>268</td>\n",
       "      <td>268</td>\n",
       "      <td>268</td>\n",
       "      <td>268</td>\n",
       "      <td>268</td>\n",
       "      <td>268</td>\n",
       "    </tr>\n",
       "    <tr>\n",
       "      <th>201504</th>\n",
       "      <td>280</td>\n",
       "      <td>280</td>\n",
       "      <td>280</td>\n",
       "      <td>280</td>\n",
       "      <td>280</td>\n",
       "      <td>280</td>\n",
       "      <td>280</td>\n",
       "    </tr>\n",
       "    <tr>\n",
       "      <th>201601</th>\n",
       "      <td>214</td>\n",
       "      <td>214</td>\n",
       "      <td>214</td>\n",
       "      <td>214</td>\n",
       "      <td>214</td>\n",
       "      <td>214</td>\n",
       "      <td>214</td>\n",
       "    </tr>\n",
       "    <tr>\n",
       "      <th>201602</th>\n",
       "      <td>173</td>\n",
       "      <td>173</td>\n",
       "      <td>173</td>\n",
       "      <td>173</td>\n",
       "      <td>173</td>\n",
       "      <td>173</td>\n",
       "      <td>173</td>\n",
       "    </tr>\n",
       "    <tr>\n",
       "      <th>201603</th>\n",
       "      <td>146</td>\n",
       "      <td>146</td>\n",
       "      <td>146</td>\n",
       "      <td>146</td>\n",
       "      <td>146</td>\n",
       "      <td>146</td>\n",
       "      <td>146</td>\n",
       "    </tr>\n",
       "    <tr>\n",
       "      <th>201604</th>\n",
       "      <td>143</td>\n",
       "      <td>143</td>\n",
       "      <td>143</td>\n",
       "      <td>143</td>\n",
       "      <td>143</td>\n",
       "      <td>143</td>\n",
       "      <td>143</td>\n",
       "    </tr>\n",
       "    <tr>\n",
       "      <th>201701</th>\n",
       "      <td>114</td>\n",
       "      <td>114</td>\n",
       "      <td>114</td>\n",
       "      <td>114</td>\n",
       "      <td>114</td>\n",
       "      <td>114</td>\n",
       "      <td>114</td>\n",
       "    </tr>\n",
       "    <tr>\n",
       "      <th>201702</th>\n",
       "      <td>186</td>\n",
       "      <td>186</td>\n",
       "      <td>186</td>\n",
       "      <td>186</td>\n",
       "      <td>186</td>\n",
       "      <td>186</td>\n",
       "      <td>186</td>\n",
       "    </tr>\n",
       "    <tr>\n",
       "      <th>201703</th>\n",
       "      <td>240</td>\n",
       "      <td>240</td>\n",
       "      <td>240</td>\n",
       "      <td>240</td>\n",
       "      <td>240</td>\n",
       "      <td>240</td>\n",
       "      <td>240</td>\n",
       "    </tr>\n",
       "    <tr>\n",
       "      <th>201704</th>\n",
       "      <td>272</td>\n",
       "      <td>272</td>\n",
       "      <td>272</td>\n",
       "      <td>272</td>\n",
       "      <td>272</td>\n",
       "      <td>272</td>\n",
       "      <td>272</td>\n",
       "    </tr>\n",
       "    <tr>\n",
       "      <th>201801</th>\n",
       "      <td>261</td>\n",
       "      <td>261</td>\n",
       "      <td>261</td>\n",
       "      <td>261</td>\n",
       "      <td>261</td>\n",
       "      <td>261</td>\n",
       "      <td>261</td>\n",
       "    </tr>\n",
       "    <tr>\n",
       "      <th>201802</th>\n",
       "      <td>206</td>\n",
       "      <td>206</td>\n",
       "      <td>206</td>\n",
       "      <td>206</td>\n",
       "      <td>206</td>\n",
       "      <td>206</td>\n",
       "      <td>206</td>\n",
       "    </tr>\n",
       "  </tbody>\n",
       "</table>\n",
       "</div>"
      ],
      "text/plain": [
       "              title  year  latitude  longitude  distance  dist_arange  counts\n",
       "year_quarter                                                                 \n",
       "201203          142   142       142        142       142          142     142\n",
       "201204          161   161       161        161       161          161     161\n",
       "201301          209   209       209        209       209          209     209\n",
       "201302          200   200       200        200       200          200     200\n",
       "201303          199   199       199        199       199          199     199\n",
       "201304          231   231       231        231       231          231     231\n",
       "201401          230   230       230        230       230          230     230\n",
       "201402          246   246       246        246       246          246     246\n",
       "201403          259   259       259        259       259          259     259\n",
       "201404          243   243       243        243       243          243     243\n",
       "201501          252   252       252        252       252          252     252\n",
       "201502          255   255       255        255       255          255     255\n",
       "201503          268   268       268        268       268          268     268\n",
       "201504          280   280       280        280       280          280     280\n",
       "201601          214   214       214        214       214          214     214\n",
       "201602          173   173       173        173       173          173     173\n",
       "201603          146   146       146        146       146          146     146\n",
       "201604          143   143       143        143       143          143     143\n",
       "201701          114   114       114        114       114          114     114\n",
       "201702          186   186       186        186       186          186     186\n",
       "201703          240   240       240        240       240          240     240\n",
       "201704          272   272       272        272       272          272     272\n",
       "201801          261   261       261        261       261          261     261\n",
       "201802          206   206       206        206       206          206     206"
      ]
     },
     "execution_count": 31,
     "metadata": {},
     "output_type": "execute_result"
    }
   ],
   "source": [
    "hongdae_final.groupby(['year_quarter']).count()"
   ]
  },
  {
   "cell_type": "code",
   "execution_count": 32,
   "metadata": {},
   "outputs": [
    {
     "data": {
      "text/html": [
       "<div>\n",
       "<style scoped>\n",
       "    .dataframe tbody tr th:only-of-type {\n",
       "        vertical-align: middle;\n",
       "    }\n",
       "\n",
       "    .dataframe tbody tr th {\n",
       "        vertical-align: top;\n",
       "    }\n",
       "\n",
       "    .dataframe thead th {\n",
       "        text-align: right;\n",
       "    }\n",
       "</style>\n",
       "<table border=\"1\" class=\"dataframe\">\n",
       "  <thead>\n",
       "    <tr style=\"text-align: right;\">\n",
       "      <th></th>\n",
       "      <th>title</th>\n",
       "      <th>counts</th>\n",
       "      <th>longitude</th>\n",
       "      <th>latitude</th>\n",
       "      <th>distance</th>\n",
       "      <th>dist_arange</th>\n",
       "    </tr>\n",
       "    <tr>\n",
       "      <th>year_quarter</th>\n",
       "      <th></th>\n",
       "      <th></th>\n",
       "      <th></th>\n",
       "      <th></th>\n",
       "      <th></th>\n",
       "      <th></th>\n",
       "    </tr>\n",
       "  </thead>\n",
       "  <tbody>\n",
       "    <tr>\n",
       "      <th>201203</th>\n",
       "      <td>142</td>\n",
       "      <td>142</td>\n",
       "      <td>142</td>\n",
       "      <td>142</td>\n",
       "      <td>142</td>\n",
       "      <td>142</td>\n",
       "    </tr>\n",
       "    <tr>\n",
       "      <th>201204</th>\n",
       "      <td>163</td>\n",
       "      <td>163</td>\n",
       "      <td>163</td>\n",
       "      <td>163</td>\n",
       "      <td>163</td>\n",
       "      <td>163</td>\n",
       "    </tr>\n",
       "    <tr>\n",
       "      <th>201301</th>\n",
       "      <td>212</td>\n",
       "      <td>212</td>\n",
       "      <td>212</td>\n",
       "      <td>212</td>\n",
       "      <td>212</td>\n",
       "      <td>212</td>\n",
       "    </tr>\n",
       "    <tr>\n",
       "      <th>201302</th>\n",
       "      <td>200</td>\n",
       "      <td>200</td>\n",
       "      <td>200</td>\n",
       "      <td>200</td>\n",
       "      <td>200</td>\n",
       "      <td>200</td>\n",
       "    </tr>\n",
       "    <tr>\n",
       "      <th>201303</th>\n",
       "      <td>203</td>\n",
       "      <td>203</td>\n",
       "      <td>203</td>\n",
       "      <td>203</td>\n",
       "      <td>203</td>\n",
       "      <td>203</td>\n",
       "    </tr>\n",
       "    <tr>\n",
       "      <th>201304</th>\n",
       "      <td>236</td>\n",
       "      <td>236</td>\n",
       "      <td>236</td>\n",
       "      <td>236</td>\n",
       "      <td>236</td>\n",
       "      <td>236</td>\n",
       "    </tr>\n",
       "    <tr>\n",
       "      <th>201401</th>\n",
       "      <td>235</td>\n",
       "      <td>235</td>\n",
       "      <td>235</td>\n",
       "      <td>235</td>\n",
       "      <td>235</td>\n",
       "      <td>235</td>\n",
       "    </tr>\n",
       "    <tr>\n",
       "      <th>201402</th>\n",
       "      <td>247</td>\n",
       "      <td>247</td>\n",
       "      <td>247</td>\n",
       "      <td>247</td>\n",
       "      <td>247</td>\n",
       "      <td>247</td>\n",
       "    </tr>\n",
       "    <tr>\n",
       "      <th>201403</th>\n",
       "      <td>261</td>\n",
       "      <td>261</td>\n",
       "      <td>261</td>\n",
       "      <td>261</td>\n",
       "      <td>261</td>\n",
       "      <td>261</td>\n",
       "    </tr>\n",
       "    <tr>\n",
       "      <th>201404</th>\n",
       "      <td>249</td>\n",
       "      <td>249</td>\n",
       "      <td>249</td>\n",
       "      <td>249</td>\n",
       "      <td>249</td>\n",
       "      <td>249</td>\n",
       "    </tr>\n",
       "    <tr>\n",
       "      <th>201501</th>\n",
       "      <td>258</td>\n",
       "      <td>258</td>\n",
       "      <td>258</td>\n",
       "      <td>258</td>\n",
       "      <td>258</td>\n",
       "      <td>258</td>\n",
       "    </tr>\n",
       "    <tr>\n",
       "      <th>201502</th>\n",
       "      <td>258</td>\n",
       "      <td>258</td>\n",
       "      <td>258</td>\n",
       "      <td>258</td>\n",
       "      <td>258</td>\n",
       "      <td>258</td>\n",
       "    </tr>\n",
       "    <tr>\n",
       "      <th>201503</th>\n",
       "      <td>273</td>\n",
       "      <td>273</td>\n",
       "      <td>273</td>\n",
       "      <td>273</td>\n",
       "      <td>273</td>\n",
       "      <td>273</td>\n",
       "    </tr>\n",
       "    <tr>\n",
       "      <th>201504</th>\n",
       "      <td>284</td>\n",
       "      <td>284</td>\n",
       "      <td>284</td>\n",
       "      <td>284</td>\n",
       "      <td>284</td>\n",
       "      <td>284</td>\n",
       "    </tr>\n",
       "    <tr>\n",
       "      <th>201601</th>\n",
       "      <td>218</td>\n",
       "      <td>218</td>\n",
       "      <td>218</td>\n",
       "      <td>218</td>\n",
       "      <td>218</td>\n",
       "      <td>218</td>\n",
       "    </tr>\n",
       "    <tr>\n",
       "      <th>201602</th>\n",
       "      <td>175</td>\n",
       "      <td>175</td>\n",
       "      <td>175</td>\n",
       "      <td>175</td>\n",
       "      <td>175</td>\n",
       "      <td>175</td>\n",
       "    </tr>\n",
       "    <tr>\n",
       "      <th>201603</th>\n",
       "      <td>148</td>\n",
       "      <td>148</td>\n",
       "      <td>148</td>\n",
       "      <td>148</td>\n",
       "      <td>148</td>\n",
       "      <td>148</td>\n",
       "    </tr>\n",
       "    <tr>\n",
       "      <th>201604</th>\n",
       "      <td>144</td>\n",
       "      <td>144</td>\n",
       "      <td>144</td>\n",
       "      <td>144</td>\n",
       "      <td>144</td>\n",
       "      <td>144</td>\n",
       "    </tr>\n",
       "    <tr>\n",
       "      <th>201701</th>\n",
       "      <td>116</td>\n",
       "      <td>116</td>\n",
       "      <td>116</td>\n",
       "      <td>116</td>\n",
       "      <td>116</td>\n",
       "      <td>116</td>\n",
       "    </tr>\n",
       "    <tr>\n",
       "      <th>201702</th>\n",
       "      <td>188</td>\n",
       "      <td>188</td>\n",
       "      <td>188</td>\n",
       "      <td>188</td>\n",
       "      <td>188</td>\n",
       "      <td>188</td>\n",
       "    </tr>\n",
       "    <tr>\n",
       "      <th>201703</th>\n",
       "      <td>240</td>\n",
       "      <td>240</td>\n",
       "      <td>240</td>\n",
       "      <td>240</td>\n",
       "      <td>240</td>\n",
       "      <td>240</td>\n",
       "    </tr>\n",
       "    <tr>\n",
       "      <th>201704</th>\n",
       "      <td>275</td>\n",
       "      <td>275</td>\n",
       "      <td>275</td>\n",
       "      <td>275</td>\n",
       "      <td>275</td>\n",
       "      <td>275</td>\n",
       "    </tr>\n",
       "    <tr>\n",
       "      <th>201801</th>\n",
       "      <td>261</td>\n",
       "      <td>261</td>\n",
       "      <td>261</td>\n",
       "      <td>261</td>\n",
       "      <td>261</td>\n",
       "      <td>261</td>\n",
       "    </tr>\n",
       "    <tr>\n",
       "      <th>201802</th>\n",
       "      <td>208</td>\n",
       "      <td>208</td>\n",
       "      <td>208</td>\n",
       "      <td>208</td>\n",
       "      <td>208</td>\n",
       "      <td>208</td>\n",
       "    </tr>\n",
       "  </tbody>\n",
       "</table>\n",
       "</div>"
      ],
      "text/plain": [
       "              title  counts  longitude  latitude  distance  dist_arange\n",
       "year_quarter                                                           \n",
       "201203          142     142        142       142       142          142\n",
       "201204          163     163        163       163       163          163\n",
       "201301          212     212        212       212       212          212\n",
       "201302          200     200        200       200       200          200\n",
       "201303          203     203        203       203       203          203\n",
       "201304          236     236        236       236       236          236\n",
       "201401          235     235        235       235       235          235\n",
       "201402          247     247        247       247       247          247\n",
       "201403          261     261        261       261       261          261\n",
       "201404          249     249        249       249       249          249\n",
       "201501          258     258        258       258       258          258\n",
       "201502          258     258        258       258       258          258\n",
       "201503          273     273        273       273       273          273\n",
       "201504          284     284        284       284       284          284\n",
       "201601          218     218        218       218       218          218\n",
       "201602          175     175        175       175       175          175\n",
       "201603          148     148        148       148       148          148\n",
       "201604          144     144        144       144       144          144\n",
       "201701          116     116        116       116       116          116\n",
       "201702          188     188        188       188       188          188\n",
       "201703          240     240        240       240       240          240\n",
       "201704          275     275        275       275       275          275\n",
       "201801          261     261        261       261       261          261\n",
       "201802          208     208        208       208       208          208"
      ]
     },
     "execution_count": 32,
     "metadata": {},
     "output_type": "execute_result"
    }
   ],
   "source": [
    "hongdae_temp.groupby(['year_quarter']).count()"
   ]
  },
  {
   "cell_type": "code",
   "execution_count": 38,
   "metadata": {},
   "outputs": [],
   "source": [
    "sample_201203 = hongdae_final[hongdae_final.year_quarter == 201203].sample(n=114)\n",
    "sample_201204 = hongdae_final[hongdae_final.year_quarter == 201204].sample(n=114)\n",
    "\n",
    "sample_201301 = hongdae_final[hongdae_final.year_quarter == 201301].sample(n=114)\n",
    "sample_201302 = hongdae_final[hongdae_final.year_quarter == 201302].sample(n=114)\n",
    "sample_201303 = hongdae_final[hongdae_final.year_quarter == 201303].sample(n=114)\n",
    "sample_201304 = hongdae_final[hongdae_final.year_quarter == 201304].sample(n=114)\n",
    "\n",
    "sample_201401 = hongdae_final[hongdae_final.year_quarter == 201401].sample(n=114)\n",
    "sample_201402 = hongdae_final[hongdae_final.year_quarter == 201402].sample(n=114)\n",
    "sample_201403 = hongdae_final[hongdae_final.year_quarter == 201403].sample(n=114)\n",
    "sample_201404 = hongdae_final[hongdae_final.year_quarter == 201404].sample(n=114)\n",
    "\n",
    "sample_201501 = hongdae_final[hongdae_final.year_quarter == 201501].sample(n=114)\n",
    "sample_201502 = hongdae_final[hongdae_final.year_quarter == 201502].sample(n=114)\n",
    "sample_201503 = hongdae_final[hongdae_final.year_quarter == 201503].sample(n=114)\n",
    "sample_201504 = hongdae_final[hongdae_final.year_quarter == 201504].sample(n=114)\n",
    "\n",
    "sample_201601 = hongdae_final[hongdae_final.year_quarter == 201601].sample(n=114)\n",
    "sample_201602 = hongdae_final[hongdae_final.year_quarter == 201602].sample(n=114)\n",
    "sample_201603 = hongdae_final[hongdae_final.year_quarter == 201603].sample(n=114)\n",
    "sample_201604 = hongdae_final[hongdae_final.year_quarter == 201604].sample(n=114)\n",
    "\n",
    "sample_201701 = hongdae_final[hongdae_final.year_quarter == 201701].sample(n=114)\n",
    "sample_201702 = hongdae_final[hongdae_final.year_quarter == 201702].sample(n=114)\n",
    "sample_201703 = hongdae_final[hongdae_final.year_quarter == 201703].sample(n=114)\n",
    "sample_201704 = hongdae_final[hongdae_final.year_quarter == 201704].sample(n=114)\n",
    "\n",
    "sample_201801 = hongdae_final[hongdae_final.year_quarter == 201801].sample(n=114)\n",
    "sample_201802 = hongdae_final[hongdae_final.year_quarter == 201802].sample(n=114)"
   ]
  },
  {
   "cell_type": "code",
   "execution_count": 39,
   "metadata": {},
   "outputs": [],
   "source": [
    "hongdae_sampling = pd.concat([sample_201203, sample_201204, sample_201301, sample_201302, sample_201303, sample_201304, sample_201401, sample_201402, sample_201403, sample_201404, sample_201501, sample_201502, sample_201503, sample_201504, sample_201601, sample_201602, sample_201603, sample_201604, sample_201701, sample_201702, sample_201703, sample_201704, sample_201801, sample_201802], ignore_index=True)"
   ]
  },
  {
   "cell_type": "code",
   "execution_count": 40,
   "metadata": {},
   "outputs": [
    {
     "data": {
      "text/plain": [
       "2736"
      ]
     },
     "execution_count": 40,
     "metadata": {},
     "output_type": "execute_result"
    }
   ],
   "source": [
    "114*24"
   ]
  },
  {
   "cell_type": "code",
   "execution_count": 41,
   "metadata": {},
   "outputs": [
    {
     "data": {
      "text/plain": [
       "title           2736\n",
       "year            2736\n",
       "year_quarter    2736\n",
       "latitude        2736\n",
       "longitude       2736\n",
       "distance        2736\n",
       "dist_arange     2736\n",
       "counts          2736\n",
       "dtype: int64"
      ]
     },
     "execution_count": 41,
     "metadata": {},
     "output_type": "execute_result"
    }
   ],
   "source": [
    "hongdae_sampling.count()"
   ]
  },
  {
   "cell_type": "code",
   "execution_count": null,
   "metadata": {},
   "outputs": [],
   "source": []
  },
  {
   "cell_type": "code",
   "execution_count": null,
   "metadata": {},
   "outputs": [],
   "source": []
  },
  {
   "cell_type": "markdown",
   "metadata": {},
   "source": [
    "# Folium"
   ]
  },
  {
   "cell_type": "code",
   "execution_count": 211,
   "metadata": {},
   "outputs": [
    {
     "data": {
      "text/html": [
       "<div style=\"width:100%;\"><div style=\"position:relative;width:100%;height:0;padding-bottom:60%;\"><iframe src=\"data:text/html;charset=utf-8;base64,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\" style=\"position:absolute;width:100%;height:100%;left:0;top:0;border:none !important;\" allowfullscreen webkitallowfullscreen mozallowfullscreen></iframe></div></div>"
      ],
      "text/plain": [
       "<folium.folium.Map at 0x1a1a2ddb00>"
      ]
     },
     "execution_count": 211,
     "metadata": {},
     "output_type": "execute_result"
    }
   ],
   "source": [
    "from folium import plugins\n",
    "from folium.plugins import HeatMap\n",
    "\n",
    "\n",
    "map_hooray = folium.Map(location=[hongdae_final['latitude'].median()+0.003, hongdae_final['longitude'].median()], zoom_start=15, tiles = 'cartodbpositron') \n",
    "\n",
    "# Ensure you're handing it floats\n",
    "hongdae_final['latitude'] = hongdae_final['latitude'].astype(float)\n",
    "hongdae_final['longitude'] = hongdae_final['longitude'].astype(float)\n",
    "\n",
    "# Filter the DF for rows, then columns, then remove NaNs\n",
    "heat_df = hongdae_final[hongdae_final['year_quarter'] == 201802] # Reducing data size so it runs faster\n",
    "heat_df = heat_df[['latitude', 'longitude']]\n",
    "\n",
    "# List comprehension to make out list of lists\n",
    "heat_data = [[row['latitude'],row['longitude']] for index, row in heat_df.iterrows()]\n",
    "\n",
    "# Plot it on the map\n",
    "HeatMap(heat_data).add_to(map_hooray)\n",
    "\n",
    "# Display the map\n",
    "map_hooray"
   ]
  },
  {
   "cell_type": "code",
   "execution_count": 206,
   "metadata": {},
   "outputs": [
    {
     "data": {
      "text/html": [
       "<div style=\"width:100%;\"><div style=\"position:relative;width:100%;height:0;padding-bottom:60%;\"><iframe src=\"data:text/html;charset=utf-8;base64,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\" style=\"position:absolute;width:100%;height:100%;left:0;top:0;border:none !important;\" allowfullscreen webkitallowfullscreen mozallowfullscreen></iframe></div></div>"
      ],
      "text/plain": [
       "<folium.folium.Map at 0x1a18da9da0>"
      ]
     },
     "execution_count": 206,
     "metadata": {},
     "output_type": "execute_result"
    }
   ],
   "source": [
    "from folium import plugins\n",
    "from folium.plugins import HeatMap\n",
    "\n",
    "\n",
    "map_hooray = folium.Map(location=[hongdae_sampling['latitude'].median()+0.003, hongdae_sampling['longitude'].median()], zoom_start=15, tiles = 'cartodbpositron') \n",
    "\n",
    "# Ensure you're handing it floats\n",
    "hongdae_sampling['latitude'] = hongdae_sampling['latitude'].astype(float)\n",
    "hongdae_sampling['longitude'] = hongdae_sampling['longitude'].astype(float)\n",
    "\n",
    "# Filter the DF for rows, then columns, then remove NaNs\n",
    "heat_df = hongdae_sampling[hongdae_sampling['year_quarter'] == 201802] # Reducing data size so it runs faster\n",
    "heat_df = heat_df[['latitude', 'longitude']]\n",
    "\n",
    "# List comprehension to make out list of lists\n",
    "heat_data = [[row['latitude'],row['longitude']] for index, row in heat_df.iterrows()]\n",
    "\n",
    "# Plot it on the map\n",
    "HeatMap(heat_data).add_to(map_hooray)\n",
    "\n",
    "# Display the map\n",
    "map_hooray"
   ]
  },
  {
   "cell_type": "code",
   "execution_count": 207,
   "metadata": {},
   "outputs": [
    {
     "data": {
      "text/html": [
       "<div style=\"width:100%;\"><div style=\"position:relative;width:100%;height:0;padding-bottom:60%;\"><iframe src=\"data:text/html;charset=utf-8;base64,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\" style=\"position:absolute;width:100%;height:100%;left:0;top:0;border:none !important;\" allowfullscreen webkitallowfullscreen mozallowfullscreen></iframe></div></div>"
      ],
      "text/plain": [
       "<folium.folium.Map at 0x1a18fcce10>"
      ]
     },
     "execution_count": 207,
     "metadata": {},
     "output_type": "execute_result"
    }
   ],
   "source": [
    "import folium\n",
    "from folium import IFrame\n",
    "import math\n",
    "\n",
    "geo_df = hongdae_sampling[hongdae_sampling['year_quarter'] == 201203]\n",
    "\n",
    "\n",
    "map = folium.Map(location=[hongdae_sampling['latitude'].mean(), hongdae_sampling['longitude'].mean()], zoom_start=15, tiles = 'cartodbpositron')\n",
    "\n",
    "\n",
    "for index, location in geo_df.iterrows():\n",
    "    # 팝업에 들어갈 텍스트를 지정해 줍니다.\n",
    "    \n",
    "#     iframe = folium.IFrame(text[n], width=700, height=450)\n",
    "#     popup = folium.Popup(iframe, max_width=3000)\n",
    "\n",
    "    \n",
    "    folium.CircleMarker([location['latitude'], location['longitude']]\n",
    "                        , radius=math.log(location['counts']*5,2), color=\"red\", fill=True, fill_opacity= 0.4, weight=0).add_to(map)    \n",
    "\n",
    "map"
   ]
  },
  {
   "cell_type": "code",
   "execution_count": 209,
   "metadata": {},
   "outputs": [
    {
     "data": {
      "text/html": [
       "<div style=\"width:100%;\"><div style=\"position:relative;width:100%;height:0;padding-bottom:60%;\"><iframe src=\"data:text/html;charset=utf-8;base64,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\" style=\"position:absolute;width:100%;height:100%;left:0;top:0;border:none !important;\" allowfullscreen webkitallowfullscreen mozallowfullscreen></iframe></div></div>"
      ],
      "text/plain": [
       "<folium.folium.Map at 0x1a1a7b9550>"
      ]
     },
     "execution_count": 209,
     "metadata": {},
     "output_type": "execute_result"
    }
   ],
   "source": [
    "import folium\n",
    "from folium import IFrame\n",
    "import math\n",
    "\n",
    "geo_df = hongdae_sampling[hongdae_sampling['year_quarter'] == 201802]\n",
    "\n",
    "\n",
    "map = folium.Map(location=[hongdae_sampling['latitude'].mean(), hongdae_sampling['longitude'].mean()], zoom_start=15, tiles = 'cartodbpositron')\n",
    "\n",
    "\n",
    "for index, location in geo_df.iterrows():\n",
    "    # 팝업에 들어갈 텍스트를 지정해 줍니다.\n",
    "    \n",
    "#     iframe = folium.IFrame(text[n], width=700, height=450)\n",
    "#     popup = folium.Popup(iframe, max_width=3000)\n",
    "\n",
    "    \n",
    "    folium.CircleMarker([location['latitude'], location['longitude']]\n",
    "                        , radius=math.log(location['counts']*5,2), color=\"red\", fill=True, fill_opacity= 0.4, weight=0).add_to(map)    \n",
    "\n",
    "map"
   ]
  },
  {
   "cell_type": "code",
   "execution_count": null,
   "metadata": {},
   "outputs": [],
   "source": []
  },
  {
   "cell_type": "code",
   "execution_count": 90,
   "metadata": {},
   "outputs": [
    {
     "data": {
      "text/plain": [
       "(126.91, 126.94)"
      ]
     },
     "execution_count": 90,
     "metadata": {},
     "output_type": "execute_result"
    },
    {
     "data": {
      "image/png": "[encoded data removed]",
      "text/plain": [
       "<Figure size 864x864 with 1 Axes>"
      ]
     },
     "metadata": {},
     "output_type": "display_data"
    }
   ],
   "source": [
    "hongdae_test = hongdae_sampling.loc[hongdae_sampling.year_quarter == 201802]\n",
    "\n",
    "sns.set(style=\"white\")\n",
    "fig, ax = plt.subplots(figsize=(12,12)) \n",
    "\n",
    "ax = sns.kdeplot(hongdae_test.longitude, hongdae_test.latitude,\n",
    "                  cmap=\"Blues\", shade=True, shade_lowest=False, n_levels=30)\n",
    "\n",
    "\n",
    "# 37.55335711336623, 126.92304845641321\n",
    "ax.set_ylim([37.54,37.57])\n",
    "ax.set_xlim([126.91, 126.94])"
   ]
  },
  {
   "cell_type": "code",
   "execution_count": 91,
   "metadata": {},
   "outputs": [],
   "source": [
    "import cv2\n",
    "import numpy as np\n",
    "import matplotlib.pyplot as plt\n",
    "from sklearn.cluster import KMeans\n",
    "\n",
    "\n",
    "def find_histogram(clt):\n",
    "    \"\"\"\n",
    "    create a histogram with k clusters\n",
    "    :param: clt\n",
    "    :return:hist\n",
    "    \"\"\"\n",
    "    numLabels = np.arange(0, len(np.unique(clt.labels_)) + 1)\n",
    "    (hist, _) = np.histogram(clt.labels_, bins=numLabels)\n",
    "\n",
    "    hist = hist.astype(\"float\")\n",
    "    hist /= hist.sum()\n",
    "\n",
    "    return hist\n",
    "\n",
    "def plot_colors2(hist, centroids):\n",
    "    bar = np.zeros((50, 300, 3), dtype=\"uint8\")\n",
    "    startX = 0\n",
    "\n",
    "    for (percent, color) in zip(hist, centroids):\n",
    "        # plot the relative percentage of each cluster\n",
    "        endX = startX + (percent * 300)\n",
    "        cv2.rectangle(bar, (int(startX), 0), (int(endX), 50),\n",
    "                      color.astype(\"uint8\").tolist(), -1)\n",
    "        startX = endX\n",
    "\n",
    "    # return the bar chart\n",
    "    return bar\n",
    "\n",
    "\n"
   ]
  },
  {
   "cell_type": "code",
   "execution_count": 212,
   "metadata": {},
   "outputs": [
    {
     "name": "stdout",
     "output_type": "stream",
     "text": [
      "[0.77801805 0.02104106 0.03846811 0.02753042 0.01704333 0.11789904]\n"
     ]
    },
    {
     "data": {
      "image/png": "[encoded data removed]",
      "text/plain": [
       "<Figure size 432x288 with 1 Axes>"
      ]
     },
     "metadata": {},
     "output_type": "display_data"
    }
   ],
   "source": [
    "img = cv2.imread(\"image/hongdae/contour/sampling/hongdae_201203.png\")\n",
    "img = cv2.cvtColor(img, cv2.COLOR_BGR2RGB)\n",
    "\n",
    "img = img.reshape((img.shape[0] * img.shape[1],3)) #represent as row*column,channel number\n",
    "clt = KMeans(n_clusters=6) #cluster number\n",
    "clt.fit(img)\n",
    "\n",
    "hist = find_histogram(clt)\n",
    "print(hist)\n",
    "\n",
    "bar = plot_colors2(hist, clt.cluster_centers_)\n",
    "\n",
    "plt.axis(\"off\")\n",
    "plt.imshow(bar)\n",
    "plt.show()"
   ]
  },
  {
   "cell_type": "code",
   "execution_count": 114,
   "metadata": {},
   "outputs": [
    {
     "name": "stdout",
     "output_type": "stream",
     "text": [
      "[0.1783886  0.03586125 0.69807994 0.02745841 0.04529696 0.01491484]\n"
     ]
    },
    {
     "data": {
      "image/png": "[encoded data removed]",
      "text/plain": [
       "<Figure size 432x288 with 1 Axes>"
      ]
     },
     "metadata": {},
     "output_type": "display_data"
    }
   ],
   "source": [
    "img = cv2.imread(\"image/hongdae/contour/sampling/hongdae_201704.png\")\n",
    "img = cv2.cvtColor(img, cv2.COLOR_BGR2RGB)\n",
    "\n",
    "img = img.reshape((img.shape[0] * img.shape[1],3)) #represent as row*column,channel number\n",
    "clt = KMeans(n_clusters=6) #cluster number\n",
    "clt.fit(img)\n",
    "\n",
    "hist = find_histogram(clt)\n",
    "print(hist)\n",
    "\n",
    "bar = plot_colors2(hist, clt.cluster_centers_)\n",
    "\n",
    "plt.axis(\"off\")\n",
    "plt.imshow(bar)\n",
    "plt.show()"
   ]
  },
  {
   "cell_type": "code",
   "execution_count": 115,
   "metadata": {},
   "outputs": [
    {
     "name": "stdout",
     "output_type": "stream",
     "text": [
      "[0.13679618 0.02833696 0.69369128 0.0536175  0.01458564 0.07297243]\n"
     ]
    },
    {
     "data": {
      "image/png": "[encoded data removed]",
      "text/plain": [
       "<Figure size 432x288 with 1 Axes>"
      ]
     },
     "metadata": {},
     "output_type": "display_data"
    }
   ],
   "source": [
    "img = cv2.imread(\"image/hongdae/contour/sampling/hongdae_201801.png\")\n",
    "img = cv2.cvtColor(img, cv2.COLOR_BGR2RGB)\n",
    "\n",
    "img = img.reshape((img.shape[0] * img.shape[1],3)) #represent as row*column,channel number\n",
    "clt = KMeans(n_clusters=6) #cluster number\n",
    "clt.fit(img)\n",
    "\n",
    "hist = find_histogram(clt)\n",
    "print(hist)\n",
    "\n",
    "bar = plot_colors2(hist, clt.cluster_centers_)\n",
    "\n",
    "plt.axis(\"off\")\n",
    "plt.imshow(bar)\n",
    "plt.show()"
   ]
  },
  {
   "cell_type": "code",
   "execution_count": 116,
   "metadata": {},
   "outputs": [
    {
     "name": "stdout",
     "output_type": "stream",
     "text": [
      "[0.66507862 0.0402962  0.06313037 0.02489373 0.17172435 0.03487673]\n"
     ]
    },
    {
     "data": {
      "image/png": "[encoded data removed]",
      "text/plain": [
       "<Figure size 432x288 with 1 Axes>"
      ]
     },
     "metadata": {},
     "output_type": "display_data"
    }
   ],
   "source": [
    "img = cv2.imread(\"image/hongdae/contour/sampling/hongdae_201802.png\")\n",
    "img = cv2.cvtColor(img, cv2.COLOR_BGR2RGB)\n",
    "\n",
    "img = img.reshape((img.shape[0] * img.shape[1],3)) #represent as row*column,channel number\n",
    "clt = KMeans(n_clusters=6) #cluster number\n",
    "clt.fit(img)\n",
    "\n",
    "hist = find_histogram(clt)\n",
    "print(hist)\n",
    "\n",
    "bar = plot_colors2(hist, clt.cluster_centers_)\n",
    "\n",
    "plt.axis(\"off\")\n",
    "plt.imshow(bar)\n",
    "plt.show()"
   ]
  },
  {
   "cell_type": "code",
   "execution_count": null,
   "metadata": {},
   "outputs": [],
   "source": []
  },
  {
   "cell_type": "markdown",
   "metadata": {},
   "source": [
    "# 증가율 계산"
   ]
  },
  {
   "cell_type": "code",
   "execution_count": 117,
   "metadata": {},
   "outputs": [],
   "source": [
    "whitehist = [0.77798101, 0.75686106, 0.74689831, 0.7761807, 0.78059301, 0.75827528, 0.76097336, 0.72970836, 0.75550073, 0.7520287, 0.71547716, 0.75432016, 0.7318662, 0.72608873, 0.71115708, 0.77494333, 0.75006879, 0.80083576, 0.77646414, 0.73586164, 0.70097793, 0.69807994, 0.69369128, 0.66507862]"
   ]
  },
  {
   "cell_type": "code",
   "execution_count": 218,
   "metadata": {},
   "outputs": [],
   "source": [
    "import datetime as dt\n",
    "\n",
    "year_temp = list(hongdae_final['year_quarter'].unique())\n",
    "year_temp = [str(i) for i in year_temp]\n",
    "year_quarter = []\n",
    "\n",
    "for s in year_temp:\n",
    "    date = dt.date(year=int(s[0:4]), month=int(s[4:6])*3, day=1)\n",
    "    date_str = date.strftime(\"%Y/%m\")\n",
    "    year_quarter.append(date_str)\n",
    "    \n",
    "# year_quarter"
   ]
  },
  {
   "cell_type": "code",
   "execution_count": 219,
   "metadata": {},
   "outputs": [],
   "source": [
    "colorhist = []\n",
    "colorhist = [1 - hist for hist in whitehist]"
   ]
  },
  {
   "cell_type": "code",
   "execution_count": 220,
   "metadata": {},
   "outputs": [
    {
     "data": {
      "text/html": [
       "<div>\n",
       "<style scoped>\n",
       "    .dataframe tbody tr th:only-of-type {\n",
       "        vertical-align: middle;\n",
       "    }\n",
       "\n",
       "    .dataframe tbody tr th {\n",
       "        vertical-align: top;\n",
       "    }\n",
       "\n",
       "    .dataframe thead th {\n",
       "        text-align: right;\n",
       "    }\n",
       "</style>\n",
       "<table border=\"1\" class=\"dataframe\">\n",
       "  <thead>\n",
       "    <tr style=\"text-align: right;\">\n",
       "      <th></th>\n",
       "      <th>year_quarter</th>\n",
       "      <th>colorhist</th>\n",
       "    </tr>\n",
       "  </thead>\n",
       "  <tbody>\n",
       "    <tr>\n",
       "      <th>0</th>\n",
       "      <td>2012/09</td>\n",
       "      <td>0.222019</td>\n",
       "    </tr>\n",
       "    <tr>\n",
       "      <th>1</th>\n",
       "      <td>2012/12</td>\n",
       "      <td>0.243139</td>\n",
       "    </tr>\n",
       "    <tr>\n",
       "      <th>2</th>\n",
       "      <td>2013/03</td>\n",
       "      <td>0.253102</td>\n",
       "    </tr>\n",
       "    <tr>\n",
       "      <th>3</th>\n",
       "      <td>2013/06</td>\n",
       "      <td>0.223819</td>\n",
       "    </tr>\n",
       "    <tr>\n",
       "      <th>4</th>\n",
       "      <td>2013/09</td>\n",
       "      <td>0.219407</td>\n",
       "    </tr>\n",
       "    <tr>\n",
       "      <th>5</th>\n",
       "      <td>2013/12</td>\n",
       "      <td>0.241725</td>\n",
       "    </tr>\n",
       "    <tr>\n",
       "      <th>6</th>\n",
       "      <td>2014/03</td>\n",
       "      <td>0.239027</td>\n",
       "    </tr>\n",
       "    <tr>\n",
       "      <th>7</th>\n",
       "      <td>2014/06</td>\n",
       "      <td>0.270292</td>\n",
       "    </tr>\n",
       "    <tr>\n",
       "      <th>8</th>\n",
       "      <td>2014/09</td>\n",
       "      <td>0.244499</td>\n",
       "    </tr>\n",
       "    <tr>\n",
       "      <th>9</th>\n",
       "      <td>2014/12</td>\n",
       "      <td>0.247971</td>\n",
       "    </tr>\n",
       "    <tr>\n",
       "      <th>10</th>\n",
       "      <td>2015/03</td>\n",
       "      <td>0.284523</td>\n",
       "    </tr>\n",
       "    <tr>\n",
       "      <th>11</th>\n",
       "      <td>2015/06</td>\n",
       "      <td>0.245680</td>\n",
       "    </tr>\n",
       "    <tr>\n",
       "      <th>12</th>\n",
       "      <td>2015/09</td>\n",
       "      <td>0.268134</td>\n",
       "    </tr>\n",
       "    <tr>\n",
       "      <th>13</th>\n",
       "      <td>2015/12</td>\n",
       "      <td>0.273911</td>\n",
       "    </tr>\n",
       "    <tr>\n",
       "      <th>14</th>\n",
       "      <td>2016/03</td>\n",
       "      <td>0.288843</td>\n",
       "    </tr>\n",
       "    <tr>\n",
       "      <th>15</th>\n",
       "      <td>2016/06</td>\n",
       "      <td>0.225057</td>\n",
       "    </tr>\n",
       "    <tr>\n",
       "      <th>16</th>\n",
       "      <td>2016/09</td>\n",
       "      <td>0.249931</td>\n",
       "    </tr>\n",
       "    <tr>\n",
       "      <th>17</th>\n",
       "      <td>2016/12</td>\n",
       "      <td>0.199164</td>\n",
       "    </tr>\n",
       "    <tr>\n",
       "      <th>18</th>\n",
       "      <td>2017/03</td>\n",
       "      <td>0.223536</td>\n",
       "    </tr>\n",
       "    <tr>\n",
       "      <th>19</th>\n",
       "      <td>2017/06</td>\n",
       "      <td>0.264138</td>\n",
       "    </tr>\n",
       "    <tr>\n",
       "      <th>20</th>\n",
       "      <td>2017/09</td>\n",
       "      <td>0.299022</td>\n",
       "    </tr>\n",
       "    <tr>\n",
       "      <th>21</th>\n",
       "      <td>2017/12</td>\n",
       "      <td>0.301920</td>\n",
       "    </tr>\n",
       "    <tr>\n",
       "      <th>22</th>\n",
       "      <td>2018/03</td>\n",
       "      <td>0.306309</td>\n",
       "    </tr>\n",
       "    <tr>\n",
       "      <th>23</th>\n",
       "      <td>2018/06</td>\n",
       "      <td>0.334921</td>\n",
       "    </tr>\n",
       "  </tbody>\n",
       "</table>\n",
       "</div>"
      ],
      "text/plain": [
       "   year_quarter  colorhist\n",
       "0       2012/09   0.222019\n",
       "1       2012/12   0.243139\n",
       "2       2013/03   0.253102\n",
       "3       2013/06   0.223819\n",
       "4       2013/09   0.219407\n",
       "5       2013/12   0.241725\n",
       "6       2014/03   0.239027\n",
       "7       2014/06   0.270292\n",
       "8       2014/09   0.244499\n",
       "9       2014/12   0.247971\n",
       "10      2015/03   0.284523\n",
       "11      2015/06   0.245680\n",
       "12      2015/09   0.268134\n",
       "13      2015/12   0.273911\n",
       "14      2016/03   0.288843\n",
       "15      2016/06   0.225057\n",
       "16      2016/09   0.249931\n",
       "17      2016/12   0.199164\n",
       "18      2017/03   0.223536\n",
       "19      2017/06   0.264138\n",
       "20      2017/09   0.299022\n",
       "21      2017/12   0.301920\n",
       "22      2018/03   0.306309\n",
       "23      2018/06   0.334921"
      ]
     },
     "execution_count": 220,
     "metadata": {},
     "output_type": "execute_result"
    }
   ],
   "source": [
    "histdata = {'year_quarter': year_quarter, 'colorhist': colorhist}\n",
    "histdata = pd.DataFrame(histdata)\n",
    "histdata"
   ]
  },
  {
   "cell_type": "code",
   "execution_count": 221,
   "metadata": {},
   "outputs": [
    {
     "data": {
      "text/plain": [
       "<matplotlib.collections.PathCollection at 0x1a19529cc0>"
      ]
     },
     "execution_count": 221,
     "metadata": {},
     "output_type": "execute_result"
    },
    {
     "data": {
      "image/png": "[encoded data removed]",
      "text/plain": [
       "<Figure size 1440x720 with 1 Axes>"
      ]
     },
     "metadata": {},
     "output_type": "display_data"
    }
   ],
   "source": [
    "fig, axs = plt.subplots(1,1, figsize=(20, 10))\n",
    "axs.scatter(histdata[\"year_quarter\"], histdata[\"colorhist\"], c = 'red')"
   ]
  },
  {
   "cell_type": "code",
   "execution_count": 222,
   "metadata": {
    "scrolled": false
   },
   "outputs": [
    {
     "name": "stdout",
     "output_type": "stream",
     "text": [
      "y=0.000029x+(-20.760993)\n"
     ]
    },
    {
     "data": {
      "image/png": "[encoded data removed]",
      "text/plain": [
       "<Figure size 1440x720 with 1 Axes>"
      ]
     },
     "metadata": {},
     "output_type": "display_data"
    }
   ],
   "source": [
    "from matplotlib import pylab\n",
    "import dateutil\n",
    "import matplotlib.dates as mdates\n",
    "import matplotlib.pyplot as plt\n",
    "\n",
    "dates = [dateutil.parser.parse(x) for x in histdata[\"year_quarter\"]]\n",
    "x = mdates.date2num(dates)\n",
    "y = histdata[\"colorhist\"]\n",
    "\n",
    "# plot the data itself\n",
    "fig, axs = plt.subplots(1,1, figsize=(20, 10))\n",
    "pylab.plot(x, y,'o', c = 'red')\n",
    "\n",
    "# calc the trendline\n",
    "z = np.polyfit(x, y, 1)\n",
    "p = np.poly1d(z)\n",
    "pylab.plot(x,p(x),\"r--\")\n",
    "\n",
    "polyX = np.linspace(x.min(), x.max(), 100)\n",
    "pylab.plot(polyX,p(polyX),\"r\", c = 'blue')\n",
    "# the line equation:\n",
    "print(\"y=%.6fx+(%.6f)\"%(z[0],z[1]))"
   ]
  },
  {
   "cell_type": "code",
   "execution_count": null,
   "metadata": {},
   "outputs": [],
   "source": []
  },
  {
   "cell_type": "markdown",
   "metadata": {},
   "source": [
    "# 면적 계산해보기"
   ]
  },
  {
   "cell_type": "markdown",
   "metadata": {},
   "source": [
    "육지면적 : 148,940,000<br>\n",
    "y=0.000029x+(-20.760993)"
   ]
  },
  {
   "cell_type": "code",
   "execution_count": 223,
   "metadata": {
    "scrolled": true
   },
   "outputs": [
    {
     "data": {
      "text/plain": [
       "array([734765., 734856., 734946., 735038., 735130., 735221., 735311.,\n",
       "       735403., 735495., 735586., 735676., 735768., 735860., 735951.,\n",
       "       736042., 736134., 736226., 736317., 736407., 736499., 736591.,\n",
       "       736682., 736772., 736864.])"
      ]
     },
     "execution_count": 223,
     "metadata": {},
     "output_type": "execute_result"
    }
   ],
   "source": [
    "x"
   ]
  },
  {
   "cell_type": "code",
   "execution_count": 245,
   "metadata": {},
   "outputs": [
    {
     "data": {
      "text/plain": [
       "2018.5534246575342"
      ]
     },
     "execution_count": 245,
     "metadata": {},
     "output_type": "execute_result"
    }
   ],
   "source": [
    "736772 / 365"
   ]
  },
  {
   "cell_type": "code",
   "execution_count": 251,
   "metadata": {},
   "outputs": [
    {
     "data": {
      "text/plain": [
       "77842090"
      ]
     },
     "execution_count": 251,
     "metadata": {},
     "output_type": "execute_result"
    }
   ],
   "source": [
    "(215284 - 2018) * 365"
   ]
  },
  {
   "cell_type": "code",
   "execution_count": 252,
   "metadata": {},
   "outputs": [
    {
     "data": {
      "text/plain": [
       "2236.6596170000003"
      ]
     },
     "execution_count": 252,
     "metadata": {},
     "output_type": "execute_result"
    }
   ],
   "source": [
    "0.000029 * 77842090 + (-20.760993)"
   ]
  },
  {
   "cell_type": "code",
   "execution_count": 253,
   "metadata": {},
   "outputs": [
    {
     "data": {
      "text/plain": [
       "9236.364757720146"
      ]
     },
     "execution_count": 253,
     "metadata": {},
     "output_type": "execute_result"
    }
   ],
   "source": [
    "2236.6596170000003 * 2.5 / 0.6053950000000015"
   ]
  },
  {
   "cell_type": "code",
   "execution_count": null,
   "metadata": {},
   "outputs": [],
   "source": []
  },
  {
   "cell_type": "code",
   "execution_count": null,
   "metadata": {},
   "outputs": [],
   "source": []
  },
  {
   "cell_type": "code",
   "execution_count": 234,
   "metadata": {},
   "outputs": [
    {
     "data": {
      "text/plain": [
       "0.6053950000000015"
      ]
     },
     "execution_count": 234,
     "metadata": {},
     "output_type": "execute_result"
    }
   ],
   "source": [
    "0.000029 * 736772 + (-20.760993)"
   ]
  },
  {
   "cell_type": "code",
   "execution_count": 226,
   "metadata": {},
   "outputs": [],
   "source": [
    "# 0.6053950000000015 : 2.50 = n : 148940000"
   ]
  },
  {
   "cell_type": "code",
   "execution_count": 242,
   "metadata": {},
   "outputs": [
    {
     "data": {
      "text/plain": [
       "36067012.520000085"
      ]
     },
     "execution_count": 242,
     "metadata": {},
     "output_type": "execute_result"
    }
   ],
   "source": [
    "0.6053950000000015 * 148940000 / 2.50"
   ]
  },
  {
   "cell_type": "code",
   "execution_count": 243,
   "metadata": {},
   "outputs": [
    {
     "data": {
      "text/plain": [
       "1243690802792.865"
      ]
     },
     "execution_count": 243,
     "metadata": {},
     "output_type": "execute_result"
    }
   ],
   "source": [
    "(36067012.520000085 + 20.760993) / 0.000029"
   ]
  },
  {
   "cell_type": "code",
   "execution_count": 244,
   "metadata": {},
   "outputs": [
    {
     "data": {
      "text/plain": [
       "3407372062.4462056"
      ]
     },
     "execution_count": 244,
     "metadata": {},
     "output_type": "execute_result"
    }
   ],
   "source": [
    "1243690802792.865 / 365"
   ]
  },
  {
   "cell_type": "code",
   "execution_count": 250,
   "metadata": {},
   "outputs": [
    {
     "data": {
      "text/plain": [
       "0.10961733680556786"
      ]
     },
     "execution_count": 250,
     "metadata": {},
     "output_type": "execute_result"
    }
   ],
   "source": [
    "419490480.2515069 / (3407372062.4462056 +419490480.2515069)"
   ]
  },
  {
   "cell_type": "code",
   "execution_count": null,
   "metadata": {},
   "outputs": [],
   "source": []
  },
  {
   "cell_type": "code",
   "execution_count": 241,
   "metadata": {},
   "outputs": [
    {
     "data": {
      "text/plain": [
       "3042525.9541291147"
      ]
     },
     "execution_count": 241,
     "metadata": {},
     "output_type": "execute_result"
    }
   ],
   "source": [
    "2.5 * 746.077212 / 0.6053950000000015"
   ]
  },
  {
   "cell_type": "code",
   "execution_count": 228,
   "metadata": {},
   "outputs": [
    {
     "data": {
      "text/plain": [
       "36016909.10400002"
      ]
     },
     "execution_count": 228,
     "metadata": {},
     "output_type": "execute_result"
    }
   ],
   "source": [
    "148940000 * 0.6045540000000003 / 2.5"
   ]
  },
  {
   "cell_type": "code",
   "execution_count": 232,
   "metadata": {},
   "outputs": [
    {
     "data": {
      "text/plain": [
       "98676.46329863019"
      ]
     },
     "execution_count": 232,
     "metadata": {},
     "output_type": "execute_result"
    }
   ],
   "source": [
    "36016909.10400002 / 365"
   ]
  },
  {
   "cell_type": "code",
   "execution_count": 230,
   "metadata": {},
   "outputs": [
    {
     "data": {
      "text/plain": [
       "1023.7293710160005"
      ]
     },
     "execution_count": 230,
     "metadata": {},
     "output_type": "execute_result"
    }
   ],
   "source": [
    "0.000029 * 36016909.10400002 + (-20.760993)"
   ]
  },
  {
   "cell_type": "code",
   "execution_count": null,
   "metadata": {},
   "outputs": [],
   "source": []
  },
  {
   "cell_type": "code",
   "execution_count": 152,
   "metadata": {},
   "outputs": [
    {
     "data": {
      "text/plain": [
       "6142.631454399983"
      ]
     },
     "execution_count": 152,
     "metadata": {},
     "output_type": "execute_result"
    }
   ],
   "source": [
    "28532 * 0.5382229999999986 / 2.50"
   ]
  },
  {
   "cell_type": "code",
   "execution_count": 154,
   "metadata": {},
   "outputs": [
    {
     "data": {
      "text/plain": [
       "2067.5373504387094"
      ]
     },
     "execution_count": 154,
     "metadata": {},
     "output_type": "execute_result"
    }
   ],
   "source": [
    "6142.631454399983 / 124 + 2018"
   ]
  },
  {
   "cell_type": "code",
   "execution_count": null,
   "metadata": {},
   "outputs": [],
   "source": [
    "28532"
   ]
  },
  {
   "cell_type": "code",
   "execution_count": null,
   "metadata": {},
   "outputs": [],
   "source": []
  },
  {
   "cell_type": "code",
   "execution_count": 123,
   "metadata": {},
   "outputs": [
    {
     "data": {
      "text/plain": [
       "[2012, 2013, 2014, 2015, 2016, 2017, 2018]"
      ]
     },
     "execution_count": 123,
     "metadata": {},
     "output_type": "execute_result"
    }
   ],
   "source": [
    "year = list(hongdae_final['year'].unique())\n",
    "year"
   ]
  },
  {
   "cell_type": "code",
   "execution_count": 240,
   "metadata": {},
   "outputs": [
    {
     "data": {
      "image/png": "[encoded data removed]",
      "text/plain": [
       "<Figure size 1080x1080 with 9 Axes>"
      ]
     },
     "metadata": {},
     "output_type": "display_data"
    }
   ],
   "source": [
    "import numpy as np\n",
    "import seaborn as sns\n",
    "import matplotlib.pyplot as plt\n",
    "\n",
    "sns.set(style=\"whitegrid\", palette=\"pastel\")\n",
    "\n",
    "# Set up the matplotlib figure\n",
    "f, axes = plt.subplots(3,3, figsize=(15,15), sharex=True, sharey=True)\n",
    "\n",
    "# Rotate the starting point around the cubehelix hue circle\n",
    "for ax, s, i in zip(axes.flat, np.linspace(0, 3, 10), year):\n",
    "    # Create a cubehelix colormap to use with kdeplot\n",
    "    cmap = sns.cubehelix_palette(start=s, light=1, as_cmap=True)\n",
    "\n",
    "    # Generate and plot a random bivariate dataset\n",
    "    x, y = hongdae_sampling[hongdae_sampling.year == i].longitude, hongdae_sampling[hongdae_sampling.year == i].latitude\n",
    "    sns.kdeplot(x, y, shade=True, cut=5, ax=ax, cmap=\"Blues\")\n",
    "    ax.set(xlim = (126.91, 126.94), ylim = (37.54,37.57), title = i)\n",
    "\n",
    "f.tight_layout()"
   ]
  },
  {
   "cell_type": "code",
   "execution_count": null,
   "metadata": {},
   "outputs": [],
   "source": []
  },
  {
   "cell_type": "code",
   "execution_count": null,
   "metadata": {},
   "outputs": [],
   "source": []
  },
  {
   "cell_type": "code",
   "execution_count": null,
   "metadata": {},
   "outputs": [],
   "source": []
  },
  {
   "cell_type": "code",
   "execution_count": null,
   "metadata": {},
   "outputs": [],
   "source": []
  },
  {
   "cell_type": "code",
   "execution_count": null,
   "metadata": {},
   "outputs": [],
   "source": []
  },
  {
   "cell_type": "code",
   "execution_count": null,
   "metadata": {},
   "outputs": [],
   "source": []
  },
  {
   "cell_type": "code",
   "execution_count": null,
   "metadata": {},
   "outputs": [],
   "source": []
  },
  {
   "cell_type": "code",
   "execution_count": null,
   "metadata": {},
   "outputs": [],
   "source": [
    "# hongdae_2017_1st = file_refining(hongdae_2017_1st)\n",
    "\n",
    "# hongdae_2012_3rd = file_refining(hongdae_2012_3rd)\n",
    "# hongdae_2012_4th = file_refining(hongdae_2012_4th)\n",
    "\n",
    "# hongdae_2013_1st = file_refining(hongdae_2013_1st)\n",
    "# hongdae_2013_2nd = file_refining(hongdae_2013_2nd)\n",
    "# hongdae_2013_3rd = file_refining(hongdae_2013_3rd)\n",
    "# hongdae_2013_4th = file_refining(hongdae_2013_4th)\n",
    "\n",
    "# hongdae_2014_1st = file_refining(hongdae_2014_1st)\n",
    "# hongdae_2014_2nd = file_refining(hongdae_2014_2nd)\n",
    "# hongdae_2014_3rd = file_refining(hongdae_2014_3rd)\n",
    "# hongdae_2014_4th = file_refining(hongdae_2014_4th)\n",
    "\n",
    "# hongdae_2015_1st = file_refining(hongdae_2015_1st)\n",
    "# hongdae_2015_2nd = file_refining(hongdae_2015_2nd)\n",
    "# hongdae_2015_3rd = file_refining(hongdae_2015_3rd)\n",
    "# hongdae_2015_4th = file_refining(hongdae_2015_4th)\n",
    "\n",
    "# hongdae_2016_1st = file_refining(hongdae_2016_1st)\n",
    "# hongdae_2016_2nd = file_refining(hongdae_2016_2nd)\n",
    "# hongdae_2016_3rd = file_refining(hongdae_2016_3rd)\n",
    "# hongdae_2016_4th = file_refining(hongdae_2016_4th)\n",
    "\n",
    "# hongdae_2017_1st = file_refining(hongdae_2017_1st)\n",
    "# hongdae_2017_2nd = file_refining(hongdae_2017_2nd)\n",
    "# hongdae_2017_3rd = file_refining(hongdae_2017_3rd)\n",
    "# hongdae_2017_4th = file_refining(hongdae_2017_4th)\n",
    "\n",
    "# hongdae_2018_1st = file_refining(hongdae_2018_1st)\n",
    "# hongdae_2018_2nd = file_refining(hongdae_2018_2nd)"
   ]
  },
  {
   "cell_type": "code",
   "execution_count": null,
   "metadata": {},
   "outputs": [],
   "source": []
  }
 ],
 "metadata": {
  "kernelspec": {
   "display_name": "Python 3",
   "language": "python",
   "name": "python3"
  },
  "language_info": {
   "codemirror_mode": {
    "name": "ipython",
    "version": 3
   },
   "file_extension": ".py",
   "mimetype": "text/x-python",
   "name": "python",
   "nbconvert_exporter": "python",
   "pygments_lexer": "ipython3",
   "version": "3.6.6"
  }
 },
 "nbformat": 4,
 "nbformat_minor": 2
}
